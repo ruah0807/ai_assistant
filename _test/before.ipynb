{
 "cells": [
  {
   "cell_type": "markdown",
   "metadata": {},
   "source": [
    "# 파일 전처리\n",
    "### xlsx conver to md"
   ]
  },
  {
   "cell_type": "code",
   "execution_count": 2,
   "metadata": {},
   "outputs": [
    {
     "name": "stdout",
     "output_type": "stream",
     "text": [
      "Collecting pandas\n",
      "  Downloading pandas-2.2.3-cp312-cp312-macosx_11_0_arm64.whl.metadata (89 kB)\n",
      "Requirement already satisfied: numpy>=1.26.0 in /opt/homebrew/Caskroom/miniforge/base/envs/assistant/lib/python3.12/site-packages (from pandas) (1.26.4)\n",
      "Requirement already satisfied: python-dateutil>=2.8.2 in /opt/homebrew/Caskroom/miniforge/base/envs/assistant/lib/python3.12/site-packages (from pandas) (2.9.0.post0)\n",
      "Collecting pytz>=2020.1 (from pandas)\n",
      "  Downloading pytz-2024.2-py2.py3-none-any.whl.metadata (22 kB)\n",
      "Collecting tzdata>=2022.7 (from pandas)\n",
      "  Downloading tzdata-2024.2-py2.py3-none-any.whl.metadata (1.4 kB)\n",
      "Requirement already satisfied: six>=1.5 in /opt/homebrew/Caskroom/miniforge/base/envs/assistant/lib/python3.12/site-packages (from python-dateutil>=2.8.2->pandas) (1.16.0)\n",
      "Downloading pandas-2.2.3-cp312-cp312-macosx_11_0_arm64.whl (11.4 MB)\n",
      "\u001b[2K   \u001b[90m━━━━━━━━━━━━━━━━━━━━━━━━━━━━━━━━━━━━━━━━\u001b[0m \u001b[32m11.4/11.4 MB\u001b[0m \u001b[31m16.3 MB/s\u001b[0m eta \u001b[36m0:00:00\u001b[0m \u001b[36m0:00:01\u001b[0m\n",
      "\u001b[?25hDownloading pytz-2024.2-py2.py3-none-any.whl (508 kB)\n",
      "Downloading tzdata-2024.2-py2.py3-none-any.whl (346 kB)\n",
      "Installing collected packages: pytz, tzdata, pandas\n",
      "Successfully installed pandas-2.2.3 pytz-2024.2 tzdata-2024.2\n"
     ]
    }
   ],
   "source": [
    "! pip install pandas"
   ]
  },
  {
   "cell_type": "code",
   "execution_count": 17,
   "metadata": {},
   "outputs": [
    {
     "name": "stdout",
     "output_type": "stream",
     "text": [
      "파일이 /Users/ainomis_dev/Desktop/ainomis/ai_assistant/_docs/similarity_code/35-판매알선업-표1.md에 저장되었습니다.\n"
     ]
    }
   ],
   "source": [
    "import pandas as pd\n",
    "import os\n",
    "\n",
    "# 엑셀 파일을 읽어온다\n",
    "df = pd.read_csv('/Users/ainomis_dev/Desktop/ainomis/ai_assistant/_docs/similarity_code/35-판매알선업-표1.csv')\n",
    "\n",
    "# markdown 형식으로 변환\n",
    "markdown_table = df.to_markdown(index=False)\n",
    "\n",
    "# 저장할 폴더 경로 설정\n",
    "save_folder = '/Users/ainomis_dev/Desktop/ainomis/ai_assistant/_docs/similarity_code/'  # 원하는 폴더 경로\n",
    "save_path = os.path.join(save_folder, '35-판매알선업-표1.md')\n",
    "\n",
    "# 해당 폴더가 없는 경우 폴더를 생성\n",
    "os.makedirs(save_folder, exist_ok=True)\n",
    "\n",
    "# 마크다운 파일로 저장\n",
    "with open(save_path, 'w') as f:\n",
    "    f.write(markdown_table)\n",
    "    print(f\"파일이 {save_path}에 저장되었습니다.\")"
   ]
  },
  {
   "cell_type": "code",
   "execution_count": null,
   "metadata": {},
   "outputs": [],
   "source": [
    "import pandas as pd\n",
    "import os\n",
    "\n",
    "# 엑셀 파일을 읽어온다\n",
    "df = pd.read_csv('/Users/ainomis_dev/Desktop/ainomis/ai_assistant/_docs/similarity_code/35-판매알선업-표1.csv')\n",
    "\n",
    "# markdown 형식으로 변환\n",
    "markdown_table = df.to_markdown(index=False)\n",
    "\n",
    "# 한 파일에 저장할 행 수 설정 (청킹크기)\n",
    "chunk_size = 1000\n",
    "\n",
    "# 저장할 폴더 경로 설정\n",
    "save_folder = '/Users/ainomis_dev/Desktop/ainomis/ai_assistant/_docs/similarity_code/35-판매알선업-표1/'  # 원하는 폴더 경로\n",
    "os.makedirs(save_folder, exist_ok=True)\n",
    "\n",
    "# 청킹하여 파일로 저장\n",
    "for i in range(0, len(df), chunk_size):\n",
    "    # 데이터 프레임을 청킹 \n",
    "    chunk_df = df[i:i+chunk_size]\n",
    "\n",
    "    # 마크다운 형식으로 변환\n",
    "    markdown_table = chunk_df.to_markdown(index=False)\n",
    "\n",
    "    #파일명 설정 (청킹 번호로 구분)\n",
    "    file_name = f'35-판매알선업_chunk_{i//chunk_size + 1}.md'\n",
    "    file_path = os.path.join(save_folder, file_name)\n",
    "\n",
    "    #마크다운 파일로 저장\n",
    "    with open(file_path, 'w', encoding='utf-8') as f :\n",
    "        f.write(markdown_table)\n",
    "\n",
    "    print(f\"{file_name} 저장 완료\")"
   ]
  }
 ],
 "metadata": {
  "kernelspec": {
   "display_name": "assistant",
   "language": "python",
   "name": "python3"
  },
  "language_info": {
   "codemirror_mode": {
    "name": "ipython",
    "version": 3
   },
   "file_extension": ".py",
   "mimetype": "text/x-python",
   "name": "python",
   "nbconvert_exporter": "python",
   "pygments_lexer": "ipython3",
   "version": "3.12.5"
  }
 },
 "nbformat": 4,
 "nbformat_minor": 2
}
