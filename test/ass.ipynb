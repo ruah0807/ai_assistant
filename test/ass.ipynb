{
 "cells": [
  {
   "cell_type": "code",
   "execution_count": 1,
   "metadata": {},
   "outputs": [
    {
     "name": "stdout",
     "output_type": "stream",
     "text": [
      "Collecting openai\n",
      "  Downloading openai-1.45.0-py3-none-any.whl.metadata (22 kB)\n",
      "Collecting load_dotenv\n",
      "  Using cached load_dotenv-0.1.0-py3-none-any.whl.metadata (1.9 kB)\n",
      "Collecting anyio<5,>=3.5.0 (from openai)\n",
      "  Using cached anyio-4.4.0-py3-none-any.whl.metadata (4.6 kB)\n",
      "Collecting distro<2,>=1.7.0 (from openai)\n",
      "  Using cached distro-1.9.0-py3-none-any.whl.metadata (6.8 kB)\n",
      "Collecting httpx<1,>=0.23.0 (from openai)\n",
      "  Using cached httpx-0.27.2-py3-none-any.whl.metadata (7.1 kB)\n",
      "Collecting jiter<1,>=0.4.0 (from openai)\n",
      "  Using cached jiter-0.5.0-cp312-cp312-macosx_11_0_arm64.whl.metadata (3.6 kB)\n",
      "Collecting pydantic<3,>=1.9.0 (from openai)\n",
      "  Using cached pydantic-2.9.1-py3-none-any.whl.metadata (146 kB)\n",
      "Collecting sniffio (from openai)\n",
      "  Using cached sniffio-1.3.1-py3-none-any.whl.metadata (3.9 kB)\n",
      "Collecting tqdm>4 (from openai)\n",
      "  Using cached tqdm-4.66.5-py3-none-any.whl.metadata (57 kB)\n",
      "Requirement already satisfied: typing-extensions<5,>=4.11 in /opt/homebrew/Caskroom/miniforge/base/envs/assistant/lib/python3.12/site-packages (from openai) (4.12.2)\n",
      "Collecting python-dotenv (from load_dotenv)\n",
      "  Using cached python_dotenv-1.0.1-py3-none-any.whl.metadata (23 kB)\n",
      "Collecting idna>=2.8 (from anyio<5,>=3.5.0->openai)\n",
      "  Downloading idna-3.9-py3-none-any.whl.metadata (10 kB)\n",
      "Collecting certifi (from httpx<1,>=0.23.0->openai)\n",
      "  Using cached certifi-2024.8.30-py3-none-any.whl.metadata (2.2 kB)\n",
      "Collecting httpcore==1.* (from httpx<1,>=0.23.0->openai)\n",
      "  Using cached httpcore-1.0.5-py3-none-any.whl.metadata (20 kB)\n",
      "Collecting h11<0.15,>=0.13 (from httpcore==1.*->httpx<1,>=0.23.0->openai)\n",
      "  Using cached h11-0.14.0-py3-none-any.whl.metadata (8.2 kB)\n",
      "Collecting annotated-types>=0.6.0 (from pydantic<3,>=1.9.0->openai)\n",
      "  Using cached annotated_types-0.7.0-py3-none-any.whl.metadata (15 kB)\n",
      "Collecting pydantic-core==2.23.3 (from pydantic<3,>=1.9.0->openai)\n",
      "  Using cached pydantic_core-2.23.3-cp312-cp312-macosx_11_0_arm64.whl.metadata (6.6 kB)\n",
      "Downloading openai-1.45.0-py3-none-any.whl (374 kB)\n",
      "Using cached load_dotenv-0.1.0-py3-none-any.whl (7.2 kB)\n",
      "Using cached anyio-4.4.0-py3-none-any.whl (86 kB)\n",
      "Using cached distro-1.9.0-py3-none-any.whl (20 kB)\n",
      "Using cached httpx-0.27.2-py3-none-any.whl (76 kB)\n",
      "Using cached httpcore-1.0.5-py3-none-any.whl (77 kB)\n",
      "Using cached jiter-0.5.0-cp312-cp312-macosx_11_0_arm64.whl (296 kB)\n",
      "Using cached pydantic-2.9.1-py3-none-any.whl (434 kB)\n",
      "Using cached pydantic_core-2.23.3-cp312-cp312-macosx_11_0_arm64.whl (1.8 MB)\n",
      "Using cached sniffio-1.3.1-py3-none-any.whl (10 kB)\n",
      "Using cached tqdm-4.66.5-py3-none-any.whl (78 kB)\n",
      "Using cached python_dotenv-1.0.1-py3-none-any.whl (19 kB)\n",
      "Using cached annotated_types-0.7.0-py3-none-any.whl (13 kB)\n",
      "Downloading idna-3.9-py3-none-any.whl (71 kB)\n",
      "Using cached certifi-2024.8.30-py3-none-any.whl (167 kB)\n",
      "Using cached h11-0.14.0-py3-none-any.whl (58 kB)\n",
      "Installing collected packages: tqdm, sniffio, python-dotenv, pydantic-core, jiter, idna, h11, distro, certifi, annotated-types, pydantic, load_dotenv, httpcore, anyio, httpx, openai\n",
      "Successfully installed annotated-types-0.7.0 anyio-4.4.0 certifi-2024.8.30 distro-1.9.0 h11-0.14.0 httpcore-1.0.5 httpx-0.27.2 idna-3.9 jiter-0.5.0 load_dotenv-0.1.0 openai-1.45.0 pydantic-2.9.1 pydantic-core-2.23.3 python-dotenv-1.0.1 sniffio-1.3.1 tqdm-4.66.5\n",
      "Note: you may need to restart the kernel to use updated packages.\n"
     ]
    }
   ],
   "source": [
    "%pip install openai load_dotenv"
   ]
  },
  {
   "cell_type": "code",
   "execution_count": 2,
   "metadata": {},
   "outputs": [
    {
     "name": "stdout",
     "output_type": "stream",
     "text": [
      "Version: 1.45.0\n",
      "Note: you may need to restart the kernel to use updated packages.\n"
     ]
    }
   ],
   "source": [
    "# openai 패키지의 버전 정보 확인\n",
    "%pip show openai | grep Version"
   ]
  },
  {
   "cell_type": "code",
   "execution_count": 3,
   "metadata": {},
   "outputs": [
    {
     "name": "stdout",
     "output_type": "stream",
     "text": [
      "1.45.0\n"
     ]
    }
   ],
   "source": [
    "import os \n",
    "from dotenv import load_dotenv\n",
    "import openai\n",
    "import json \n",
    "from openai import OpenAI\n",
    "\n",
    "\n",
    "load_dotenv()\n",
    "\n",
    "\n",
    "print(openai.__version__)\n",
    "\n",
    "def show_json(obj):\n",
    "    #obj의 모델을 Json 형태로 변환 후 출력\n",
    "    display(json.loads(obj.model_dump_json()))\n",
    "\n",
    "\n",
    "api_key = os.environ.get('OPENAI_API_KEY')\n",
    "# Open ai API를 사용하기 위한 클라이언트 객체생성\n",
    "client = OpenAI(api_key=api_key)\n"
   ]
  },
  {
   "cell_type": "code",
   "execution_count": null,
   "metadata": {},
   "outputs": [],
   "source": [
    "\n",
    "assistant = client.beta.assistants.create(\n",
    "    name = \"상표 식별력 판단 AI(GPT-4o)\",\n",
    "    instructions=\"\"\"\n",
    "    1. Role\n",
    "    상표 식별력 판단 AI 서비스는 업로드한 파일들을 Retrieval 하고, 상표의 이미지 또는 텍스트를 분석하여, 해당 상표의 식별력을 평가하고 등록 가능성을 판단하는 역할을 수행합니다.\n",
    "\n",
    "    2. Context\n",
    "\n",
    "    이 GPT는 대한민국의 상표를 새로 등록하려는 업체를 대상으로, 상표가 이미지든 텍스트든 상관없이 대한민국 상표심사기준 문서에 따라 식별력을 평가합니다. 또한, 식별력이 부족한 경우 그 이유를 상세히 설명하고, 관련 법률 조항과 판례를 참조하여 사용자가 이해할 수 있도록 도와줍니다.\n",
    "\n",
    "    3. Dialog Flow\n",
    "\n",
    "        1.\t상표 입력 요청: 사용자가 상표 이미지를 업로드하거나 텍스트 형태의 상표를 입력하도록 요청합니다. \n",
    "        2.\t상표 형태 인식: 입력된 상표가 이미지인지 텍스트인지 인식합니다.\n",
    "        •\t이미지일 경우: 이미지에서 텍스트나 시각적 요소를 추출한 후 분석합니다.\n",
    "        •\t텍스트일 경우: 텍스트를 직접 분석합니다.\n",
    "        3.\t법률 기준 참조: [상표심사기준202405.pdf]안에 있는 내용을 기준으로 상표의 식별력을 평가합니다.\n",
    "        •\t식별력이 충분한경우 :  GPT는 상표심사기준 문서에서 관련 조항을 참조하여, 왜 식별력이 있는지를 신뢰성있는 데이터를 바탕으로 상세히 설명합니다. \n",
    "        •\t식별력이 부족한 경우: GPT는 상표심사기준 문서에서 관련 조항을 참조하여, 왜 식별력이 부족한지 이유를 신뢰성있는 데이터를 바탕으로 상세히 설명합니다.\n",
    "        4.\t결과 제공: 상표가 식별력이 있는지, 등록 가능성이 있는지 평가한 후 결과를 사용자에게 제공합니다. 이때, 식별력이 부족한 경우 해당 법률 조항을 명시하고 이유를 설명합니다.\n",
    "        5.\t피드백 요청: 사용자에게 제공된 분석 결과에 대해 피드백을 요청하고, 추가 분석이 필요한지 확인합니다.\n",
    "\n",
    "    4. Instructions\n",
    "\n",
    "        1.\t상표를 이미지나 텍스트 형태로 입력받으세요.\n",
    "        2.\t상표의 형태를 인식한 후, 해당 상표를 분석하세요.\n",
    "        •\t이미지에서 텍스트를 추출하거나 시각적 요소를 분석합니다.\n",
    "        •\t텍스트 형태의 상표는 직접 분석합니다.\n",
    "        3.\t대한민국 [상표심사기준202405.pdf]에 따라 상표의 식별력을 평가하세요.\n",
    "        •\t식별력이 부족한 경우, 상표심사기준 문서에서 관련 조항을 참조하여 상세한 이유를 제공하세요.\n",
    "        •\t사용자가 신뢰를 느끼도록 참고한 문서의 메타데이터를 보여주세요\n",
    "        4.\t상표의 식별력 여부와 등록 가능성을 명확히 설명하고, 결과를 사용자에게 전달하세요.\n",
    "        5.\t사용자의 피드백을 받아 필요 시 추가 분석이나 법적 조언을 제공하세요.\n",
    "\n",
    "    5. Constraints\n",
    "\n",
    "        •\tGPT는 상표의 이미지 또는 텍스트를 분석할 때 대한민국 상표심사기준에 따라 판단해야 합니다.\n",
    "        •\t식별력이 부족한 경우, 상표심사기준 문서의 관련 조항을 참조하여 상세한 이유를 제공해야 합니다.\n",
    "        •\t법률적 용어를 사용하여 명확하게 결과를 전달해야 합니다.\n",
    "\n",
    "    6. Output Indicator\n",
    "\n",
    "        •\t상표가 식별력이 있는지 여부를 명확히 판단하고, 해당 상표가 등록 가능성이 있는지를 법률적 기준에 따라 정확히 평가합니다.\n",
    "        •\t식별력이 부족한 경우, 상표심사기준 문서에서 참조한 조항과 함께 구체적이고 명확한 이유를 제시합니다.\n",
    "        •\t사용자의 피드백에 따라 추가 분석이나 정보 제공이 이루어집니다.\n",
    "\"\"\",\n",
    "model='gpt-4o',\n",
    "\n",
    ")\n",
    "# 생성된 챗봇의 정보를 json 형태로 출력 \n",
    "show_json(assistant)\n"
   ]
  },
  {
   "cell_type": "code",
   "execution_count": 5,
   "metadata": {},
   "outputs": [],
   "source": [
    "assistant_delete = client.beta.assistants.delete(\n",
    "    assistant_id = 'asst_x80ooPyJACW7qsswAChpQyMG'\n",
    ")"
   ]
  },
  {
   "cell_type": "code",
   "execution_count": 4,
   "metadata": {},
   "outputs": [
    {
     "name": "stdout",
     "output_type": "stream",
     "text": [
      "Assistant Name: 상표 TEXT 유사도 평가 Assistant, Assistant ID: asst_IbYT7EatQkmSnremkg5RuiC0\n",
      "Assistant Name: 상표 IMAGE 유사도 평가 Assistant, Assistant ID: asst_FY8Yfek8H3CrJKSLX2OyWFB1\n",
      "Assistant Name: 수학천재, Assistant ID: asst_n01Ro5AKLNdP8Ye4IZqB727G\n",
      "Assistant Name: 상표 식별력 판단 AI(GPT-4o), Assistant ID: asst_mD9MAguey0mzXs0wKEJmG4lV\n",
      "Assistant Name: 상표 식별력 판단 AI, Assistant ID: asst_GDlNLfM4j2LCpTYFgULSR1V6\n"
     ]
    }
   ],
   "source": [
    "# 기존 어시스턴트 ID 확인\n",
    "assistant_list = client.beta.assistants.list()\n",
    "\n",
    "for assistant in assistant_list:\n",
    "    print(f\"Assistant Name: {assistant.name}, Assistant ID: {assistant.id}\")\n"
   ]
  },
  {
   "cell_type": "code",
   "execution_count": 9,
   "metadata": {},
   "outputs": [
    {
     "name": "stdout",
     "output_type": "stream",
     "text": [
      "[새로 생성한 ASSISTANT_ID]\n",
      "asst_GDlNLfM4j2LCpTYFgULSR1V6\n"
     ]
    }
   ],
   "source": [
    "# assistant id를 별도의 변수에 담음\n",
    "ASSISTANT_ID = 'asst_GDlNLfM4j2LCpTYFgULSR1V6'\n",
    "\n",
    "print(f\"[새로 생성한 ASSISTANT_ID]\\n{ASSISTANT_ID}\")\n"
   ]
  },
  {
   "cell_type": "code",
   "execution_count": 5,
   "metadata": {},
   "outputs": [
    {
     "ename": "NotFoundError",
     "evalue": "Error code: 404 - {'error': {'message': \"No assistant found with id 'asst_MYUSHbmtVjpvB3wBQwFkmCp6'.\", 'type': 'invalid_request_error', 'param': None, 'code': None}}",
     "output_type": "error",
     "traceback": [
      "\u001b[0;31m---------------------------------------------------------------------------\u001b[0m",
      "\u001b[0;31mNotFoundError\u001b[0m                             Traceback (most recent call last)",
      "Cell \u001b[0;32mIn[5], line 2\u001b[0m\n\u001b[1;32m      1\u001b[0m \u001b[38;5;66;03m# assistant 삭제\u001b[39;00m\n\u001b[0;32m----> 2\u001b[0m \u001b[43mclient\u001b[49m\u001b[38;5;241;43m.\u001b[39;49m\u001b[43mbeta\u001b[49m\u001b[38;5;241;43m.\u001b[39;49m\u001b[43massistants\u001b[49m\u001b[38;5;241;43m.\u001b[39;49m\u001b[43mdelete\u001b[49m\u001b[43m(\u001b[49m\u001b[43massistant_id\u001b[49m\u001b[38;5;241;43m=\u001b[39;49m\u001b[38;5;124;43m'\u001b[39;49m\u001b[38;5;124;43masst_MYUSHbmtVjpvB3wBQwFkmCp6\u001b[39;49m\u001b[38;5;124;43m'\u001b[39;49m\u001b[43m)\u001b[49m\n\u001b[1;32m      3\u001b[0m \u001b[38;5;66;03m# print(f\"어시스턴트 {ASSISTANT_ID}가 삭제되었습니다.\")\u001b[39;00m\n",
      "File \u001b[0;32m/opt/homebrew/Caskroom/miniforge/base/envs/assistant/lib/python3.12/site-packages/openai/resources/beta/assistants.py:401\u001b[0m, in \u001b[0;36mAssistants.delete\u001b[0;34m(self, assistant_id, extra_headers, extra_query, extra_body, timeout)\u001b[0m\n\u001b[1;32m    399\u001b[0m     \u001b[38;5;28;01mraise\u001b[39;00m \u001b[38;5;167;01mValueError\u001b[39;00m(\u001b[38;5;124mf\u001b[39m\u001b[38;5;124m\"\u001b[39m\u001b[38;5;124mExpected a non-empty value for `assistant_id` but received \u001b[39m\u001b[38;5;132;01m{\u001b[39;00massistant_id\u001b[38;5;132;01m!r}\u001b[39;00m\u001b[38;5;124m\"\u001b[39m)\n\u001b[1;32m    400\u001b[0m extra_headers \u001b[38;5;241m=\u001b[39m {\u001b[38;5;124m\"\u001b[39m\u001b[38;5;124mOpenAI-Beta\u001b[39m\u001b[38;5;124m\"\u001b[39m: \u001b[38;5;124m\"\u001b[39m\u001b[38;5;124massistants=v2\u001b[39m\u001b[38;5;124m\"\u001b[39m, \u001b[38;5;241m*\u001b[39m\u001b[38;5;241m*\u001b[39m(extra_headers \u001b[38;5;129;01mor\u001b[39;00m {})}\n\u001b[0;32m--> 401\u001b[0m \u001b[38;5;28;01mreturn\u001b[39;00m \u001b[38;5;28;43mself\u001b[39;49m\u001b[38;5;241;43m.\u001b[39;49m\u001b[43m_delete\u001b[49m\u001b[43m(\u001b[49m\n\u001b[1;32m    402\u001b[0m \u001b[43m    \u001b[49m\u001b[38;5;124;43mf\u001b[39;49m\u001b[38;5;124;43m\"\u001b[39;49m\u001b[38;5;124;43m/assistants/\u001b[39;49m\u001b[38;5;132;43;01m{\u001b[39;49;00m\u001b[43massistant_id\u001b[49m\u001b[38;5;132;43;01m}\u001b[39;49;00m\u001b[38;5;124;43m\"\u001b[39;49m\u001b[43m,\u001b[49m\n\u001b[1;32m    403\u001b[0m \u001b[43m    \u001b[49m\u001b[43moptions\u001b[49m\u001b[38;5;241;43m=\u001b[39;49m\u001b[43mmake_request_options\u001b[49m\u001b[43m(\u001b[49m\n\u001b[1;32m    404\u001b[0m \u001b[43m        \u001b[49m\u001b[43mextra_headers\u001b[49m\u001b[38;5;241;43m=\u001b[39;49m\u001b[43mextra_headers\u001b[49m\u001b[43m,\u001b[49m\u001b[43m \u001b[49m\u001b[43mextra_query\u001b[49m\u001b[38;5;241;43m=\u001b[39;49m\u001b[43mextra_query\u001b[49m\u001b[43m,\u001b[49m\u001b[43m \u001b[49m\u001b[43mextra_body\u001b[49m\u001b[38;5;241;43m=\u001b[39;49m\u001b[43mextra_body\u001b[49m\u001b[43m,\u001b[49m\u001b[43m \u001b[49m\u001b[43mtimeout\u001b[49m\u001b[38;5;241;43m=\u001b[39;49m\u001b[43mtimeout\u001b[49m\n\u001b[1;32m    405\u001b[0m \u001b[43m    \u001b[49m\u001b[43m)\u001b[49m\u001b[43m,\u001b[49m\n\u001b[1;32m    406\u001b[0m \u001b[43m    \u001b[49m\u001b[43mcast_to\u001b[49m\u001b[38;5;241;43m=\u001b[39;49m\u001b[43mAssistantDeleted\u001b[49m\u001b[43m,\u001b[49m\n\u001b[1;32m    407\u001b[0m \u001b[43m\u001b[49m\u001b[43m)\u001b[49m\n",
      "File \u001b[0;32m/opt/homebrew/Caskroom/miniforge/base/envs/assistant/lib/python3.12/site-packages/openai/_base_client.py:1296\u001b[0m, in \u001b[0;36mSyncAPIClient.delete\u001b[0;34m(self, path, cast_to, body, options)\u001b[0m\n\u001b[1;32m   1287\u001b[0m \u001b[38;5;28;01mdef\u001b[39;00m \u001b[38;5;21mdelete\u001b[39m(\n\u001b[1;32m   1288\u001b[0m     \u001b[38;5;28mself\u001b[39m,\n\u001b[1;32m   1289\u001b[0m     path: \u001b[38;5;28mstr\u001b[39m,\n\u001b[0;32m   (...)\u001b[0m\n\u001b[1;32m   1293\u001b[0m     options: RequestOptions \u001b[38;5;241m=\u001b[39m {},\n\u001b[1;32m   1294\u001b[0m ) \u001b[38;5;241m-\u001b[39m\u001b[38;5;241m>\u001b[39m ResponseT:\n\u001b[1;32m   1295\u001b[0m     opts \u001b[38;5;241m=\u001b[39m FinalRequestOptions\u001b[38;5;241m.\u001b[39mconstruct(method\u001b[38;5;241m=\u001b[39m\u001b[38;5;124m\"\u001b[39m\u001b[38;5;124mdelete\u001b[39m\u001b[38;5;124m\"\u001b[39m, url\u001b[38;5;241m=\u001b[39mpath, json_data\u001b[38;5;241m=\u001b[39mbody, \u001b[38;5;241m*\u001b[39m\u001b[38;5;241m*\u001b[39moptions)\n\u001b[0;32m-> 1296\u001b[0m     \u001b[38;5;28;01mreturn\u001b[39;00m \u001b[38;5;28;43mself\u001b[39;49m\u001b[38;5;241;43m.\u001b[39;49m\u001b[43mrequest\u001b[49m\u001b[43m(\u001b[49m\u001b[43mcast_to\u001b[49m\u001b[43m,\u001b[49m\u001b[43m \u001b[49m\u001b[43mopts\u001b[49m\u001b[43m)\u001b[49m\n",
      "File \u001b[0;32m/opt/homebrew/Caskroom/miniforge/base/envs/assistant/lib/python3.12/site-packages/openai/_base_client.py:937\u001b[0m, in \u001b[0;36mSyncAPIClient.request\u001b[0;34m(self, cast_to, options, remaining_retries, stream, stream_cls)\u001b[0m\n\u001b[1;32m    928\u001b[0m \u001b[38;5;28;01mdef\u001b[39;00m \u001b[38;5;21mrequest\u001b[39m(\n\u001b[1;32m    929\u001b[0m     \u001b[38;5;28mself\u001b[39m,\n\u001b[1;32m    930\u001b[0m     cast_to: Type[ResponseT],\n\u001b[0;32m   (...)\u001b[0m\n\u001b[1;32m    935\u001b[0m     stream_cls: \u001b[38;5;28mtype\u001b[39m[_StreamT] \u001b[38;5;241m|\u001b[39m \u001b[38;5;28;01mNone\u001b[39;00m \u001b[38;5;241m=\u001b[39m \u001b[38;5;28;01mNone\u001b[39;00m,\n\u001b[1;32m    936\u001b[0m ) \u001b[38;5;241m-\u001b[39m\u001b[38;5;241m>\u001b[39m ResponseT \u001b[38;5;241m|\u001b[39m _StreamT:\n\u001b[0;32m--> 937\u001b[0m     \u001b[38;5;28;01mreturn\u001b[39;00m \u001b[38;5;28;43mself\u001b[39;49m\u001b[38;5;241;43m.\u001b[39;49m\u001b[43m_request\u001b[49m\u001b[43m(\u001b[49m\n\u001b[1;32m    938\u001b[0m \u001b[43m        \u001b[49m\u001b[43mcast_to\u001b[49m\u001b[38;5;241;43m=\u001b[39;49m\u001b[43mcast_to\u001b[49m\u001b[43m,\u001b[49m\n\u001b[1;32m    939\u001b[0m \u001b[43m        \u001b[49m\u001b[43moptions\u001b[49m\u001b[38;5;241;43m=\u001b[39;49m\u001b[43moptions\u001b[49m\u001b[43m,\u001b[49m\n\u001b[1;32m    940\u001b[0m \u001b[43m        \u001b[49m\u001b[43mstream\u001b[49m\u001b[38;5;241;43m=\u001b[39;49m\u001b[43mstream\u001b[49m\u001b[43m,\u001b[49m\n\u001b[1;32m    941\u001b[0m \u001b[43m        \u001b[49m\u001b[43mstream_cls\u001b[49m\u001b[38;5;241;43m=\u001b[39;49m\u001b[43mstream_cls\u001b[49m\u001b[43m,\u001b[49m\n\u001b[1;32m    942\u001b[0m \u001b[43m        \u001b[49m\u001b[43mremaining_retries\u001b[49m\u001b[38;5;241;43m=\u001b[39;49m\u001b[43mremaining_retries\u001b[49m\u001b[43m,\u001b[49m\n\u001b[1;32m    943\u001b[0m \u001b[43m    \u001b[49m\u001b[43m)\u001b[49m\n",
      "File \u001b[0;32m/opt/homebrew/Caskroom/miniforge/base/envs/assistant/lib/python3.12/site-packages/openai/_base_client.py:1041\u001b[0m, in \u001b[0;36mSyncAPIClient._request\u001b[0;34m(self, cast_to, options, remaining_retries, stream, stream_cls)\u001b[0m\n\u001b[1;32m   1038\u001b[0m         err\u001b[38;5;241m.\u001b[39mresponse\u001b[38;5;241m.\u001b[39mread()\n\u001b[1;32m   1040\u001b[0m     log\u001b[38;5;241m.\u001b[39mdebug(\u001b[38;5;124m\"\u001b[39m\u001b[38;5;124mRe-raising status error\u001b[39m\u001b[38;5;124m\"\u001b[39m)\n\u001b[0;32m-> 1041\u001b[0m     \u001b[38;5;28;01mraise\u001b[39;00m \u001b[38;5;28mself\u001b[39m\u001b[38;5;241m.\u001b[39m_make_status_error_from_response(err\u001b[38;5;241m.\u001b[39mresponse) \u001b[38;5;28;01mfrom\u001b[39;00m \u001b[38;5;28;01mNone\u001b[39;00m\n\u001b[1;32m   1043\u001b[0m \u001b[38;5;28;01mreturn\u001b[39;00m \u001b[38;5;28mself\u001b[39m\u001b[38;5;241m.\u001b[39m_process_response(\n\u001b[1;32m   1044\u001b[0m     cast_to\u001b[38;5;241m=\u001b[39mcast_to,\n\u001b[1;32m   1045\u001b[0m     options\u001b[38;5;241m=\u001b[39moptions,\n\u001b[0;32m   (...)\u001b[0m\n\u001b[1;32m   1049\u001b[0m     retries_taken\u001b[38;5;241m=\u001b[39moptions\u001b[38;5;241m.\u001b[39mget_max_retries(\u001b[38;5;28mself\u001b[39m\u001b[38;5;241m.\u001b[39mmax_retries) \u001b[38;5;241m-\u001b[39m retries,\n\u001b[1;32m   1050\u001b[0m )\n",
      "\u001b[0;31mNotFoundError\u001b[0m: Error code: 404 - {'error': {'message': \"No assistant found with id 'asst_MYUSHbmtVjpvB3wBQwFkmCp6'.\", 'type': 'invalid_request_error', 'param': None, 'code': None}}"
     ]
    }
   ],
   "source": [
    "# assistant 삭제\n",
    "client.beta.assistants.delete(assistant_id='asst_MYUSHbmtVjpvB3wBQwFkmCp6')\n",
    "# print(f\"어시스턴트 {ASSISTANT_ID}가 삭제되었습니다.\")"
   ]
  },
  {
   "cell_type": "markdown",
   "metadata": {},
   "source": [
    "# 업데이트 및 Code_interpreter\n",
    " assistant가 자체적으로 구동이 가능한 코드를 구현하고 query를 만들어 검색\n",
    "- 데이터가 많을 경우 토큰을 효율적으로 사용가능"
   ]
  },
  {
   "cell_type": "code",
   "execution_count": null,
   "metadata": {},
   "outputs": [],
   "source": [
    "# update assistant\n",
    "assistant = client.beta.assistants.update(\n",
    "    ASSISTANT_ID,\n",
    "    tools=[{'type':'code_interpreter'}], \n",
    ")\n",
    "show_json(assistant)"
   ]
  },
  {
   "cell_type": "code",
   "execution_count": null,
   "metadata": {},
   "outputs": [],
   "source": [
    "def upload_files(files):\n",
    "    uploaded_files = []\n",
    "    for filepath in files:\n",
    "        file = client.beta.create(\n",
    "            file = open(\n",
    "                filepath,\n",
    "                'rb'\n",
    "            ),\n",
    "            purpose='assistants'\n",
    "        )\n",
    "        uploaded_files.append(file.id)\n",
    "        print(f'[업로드한 파일 ID]\\n{file.id}')\n",
    "    return uploaded_files\n"
   ]
  },
  {
   "cell_type": "code",
   "execution_count": 15,
   "metadata": {},
   "outputs": [],
   "source": [
    "\n",
    "#업로드할 파일들의 경로를 지정\n",
    "files_to_uploaded = [\n",
    "    'docs/[의견서예시][의견서미제출-거절]선행상표조사_MindShare.pdf',\n",
    "    'docs/[의견서예시][의견서제출-거절]crople선행상표조사보고서(제출).pdf',\n",
    "    'docs/[의견서예시]몸선필라테스&발레핏.pdf',\n",
    "    'docs/상표검색 프로세스.pdf',\n",
    "    'docs/상표심사기준202405.pdf',\n",
    "    'docs/선행상표조사결과(샘플)_화음이 만든 샘플임_240822.pdf',\n",
    "    'docs/상표유사여부보고서(별책).pdf',\n",
    "\n",
    "]\n",
    "\n",
    "file_streams = [open(path, 'rb') for path in files_to_uploaded]\n"
   ]
  },
  {
   "cell_type": "markdown",
   "metadata": {},
   "source": [
    "### 파일 백터화"
   ]
  },
  {
   "cell_type": "code",
   "execution_count": 13,
   "metadata": {},
   "outputs": [
    {
     "data": {
      "text/plain": [
       "{'id': 'vs_lnyjqbRPhkqR5RkQ3Y3pdiN1',\n",
       " 'created_at': 1725525376,\n",
       " 'file_counts': {'cancelled': 0,\n",
       "  'completed': 0,\n",
       "  'failed': 0,\n",
       "  'in_progress': 0,\n",
       "  'total': 0},\n",
       " 'last_active_at': 1725951855,\n",
       " 'metadata': {},\n",
       " 'name': '상표 식별 documents',\n",
       " 'object': 'vector_store',\n",
       " 'status': 'completed',\n",
       " 'usage_bytes': 0,\n",
       " 'expires_after': None,\n",
       " 'expires_at': None}"
      ]
     },
     "metadata": {},
     "output_type": "display_data"
    }
   ],
   "source": [
    "# vector_store = client.beta.vector_stores.create(\n",
    "#     name = '상표 식별 documents',\n",
    "# )\n",
    "\n",
    "vector_store = client.beta.vector_stores.update(\n",
    "    vector_store_id= 'vs_lnyjqbRPhkqR5RkQ3Y3pdiN1'\n",
    ")\n",
    "show_json(vector_store)"
   ]
  },
  {
   "cell_type": "code",
   "execution_count": 11,
   "metadata": {},
   "outputs": [
    {
     "data": {
      "text/plain": [
       "SyncCursorPage[VectorStore](data=[VectorStore(id='vs_lnyjqbRPhkqR5RkQ3Y3pdiN1', created_at=1725525376, file_counts=FileCounts(cancelled=0, completed=3, failed=0, in_progress=0, total=3), last_active_at=1725601075, metadata={}, name='상표 식별 documents', object='vector_store', status='completed', usage_bytes=6974494, expires_after=None, expires_at=None), VectorStore(id='vs_8HRlMlOmpLEGKXIJAPZBGn2w', created_at=1725507210, file_counts=FileCounts(cancelled=0, completed=7, failed=0, in_progress=0, total=7), last_active_at=1725524851, metadata={}, name='상표 식별 documents', object='vector_store', status='completed', usage_bytes=15435659, expires_after=None, expires_at=None)], object='list', first_id='vs_lnyjqbRPhkqR5RkQ3Y3pdiN1', last_id='vs_8HRlMlOmpLEGKXIJAPZBGn2w', has_more=False)"
      ]
     },
     "execution_count": 11,
     "metadata": {},
     "output_type": "execute_result"
    }
   ],
   "source": [
    "client.beta.vector_stores.list()"
   ]
  },
  {
   "cell_type": "code",
   "execution_count": 53,
   "metadata": {},
   "outputs": [
    {
     "data": {
      "text/plain": [
       "FileDeleted(id='file-hpjBTNyZRMpQG4lxlqGLaa2c', deleted=True, object='file')"
      ]
     },
     "execution_count": 53,
     "metadata": {},
     "output_type": "execute_result"
    }
   ],
   "source": [
    "client.files.delete(\n",
    "    file_id=\n",
    "        'file-hpjBTNyZRMpQG4lxlqGLaa2c'\n",
    "    \n",
    ")"
   ]
  },
  {
   "cell_type": "markdown",
   "metadata": {},
   "source": [
    "# Vector Store 삭제"
   ]
  },
  {
   "cell_type": "code",
   "execution_count": 3,
   "metadata": {},
   "outputs": [],
   "source": [
    "\n",
    "## vectorstore 삭제 ###\n",
    "vector_store = client.beta.vector_stores.delete(\n",
    "    vector_store_id='vs_lnyjqbRPhkqR5RkQ3Y3pdiN1'\n",
    ")"
   ]
  },
  {
   "cell_type": "markdown",
   "metadata": {},
   "source": [
    "### 파일리스트보기"
   ]
  },
  {
   "cell_type": "code",
   "execution_count": 17,
   "metadata": {},
   "outputs": [
    {
     "name": "stdout",
     "output_type": "stream",
     "text": [
      "[파일 ID] file-XZ5MNOwKzsNqkKmdF554RSTI [파일명]상표유사여부보고서(별책).pdf\n",
      "[파일 ID] file-bpwBjsH0mj1gV2TgNESh3Onf [파일명]상표심사기준202405.pdf\n",
      "[파일 ID] file-qHMYWXfcBWdXu916aEL1YTZ3 [파일명][의견서예시]몸선필라테스&발레핏.pdf\n",
      "[파일 ID] file-WVGkUZ1VYfv8RQowuemWRkV2 [파일명]선행상표조사결과(샘플)_화음이 만든 샘플임_240822.pdf\n",
      "[파일 ID] file-R3VGc7hFw1t88RFsdqjGQwAM [파일명]상표검색 프로세스.pdf\n",
      "[파일 ID] file-OM9q0naOczDAgVga6Y3S2HPM [파일명][의견서예시][의견서제출-거절]crople선행상표조사보고서(제출).pdf\n",
      "[파일 ID] file-23Ztjs3hNvZtklt7w0Pge1bf [파일명][의견서예시][의견서미제출-거절]선행상표조사_MindShare.pdf\n",
      "[파일 ID] file-LoNQ3oJJfZeU2sqLLPrW48Z7 [파일명]93215ee5-ecfa-461d-b52c-be0d54b760c7\n",
      "[파일 ID] file-wr1HjPydhZO2YMmYD3D9nN1D [파일명]상표유사여부보고서(별책).pdf\n",
      "[파일 ID] file-cZOWGW070kf1Zf8KrpaBlsYP [파일명]상표검색 프로세스.pdf\n",
      "[파일 ID] file-X2Bolf8fllQW9jNeRTq3ccQq [파일명]상표심사기준202405.pdf\n",
      "[파일 ID] file-HLvqqzo8tbEhAvF04olrbkyd [파일명]상표심사기준202405.pdf\n",
      "[파일 ID] file-Egr1udFiMr7od8gyKqvzZ7cg [파일명]step_metrics.csv\n",
      "[파일 ID] file-yWxyD77DLvXAki3qebW1H7Vy [파일명]test2.jsonl\n",
      "[파일 ID] file-VRH4cOFuzVCZx2vbEv8K57b4 [파일명]step_metrics.csv\n",
      "[파일 ID] file-xIobt8Bpy9hugpmA4fv4YrJD [파일명]hunnid.jsonl\n",
      "[파일 ID] file-mz3Gw0q5sZxr0dghXfdsd8tR [파일명]step_metrics.csv\n",
      "[파일 ID] file-y9PUyPWyuSn05MYpuwkrPux7 [파일명]Tuto.jsonl\n",
      "[파일 ID] file-S9Vv9Xxdw3V8CNpFT6VxxmEZ [파일명]Tuto.jsonl\n",
      "[파일 ID] file-x0cibpm9mIuyccVNwrMQ0hHz [파일명]Tuto.jsonl\n",
      "[파일 ID] file-r0gahJ0kn7eiCcF7SLtY74ez [파일명]step_metrics.csv\n",
      "[파일 ID] file-2jnzu0zcZSWZN4gTvlCHe0ls [파일명]step_metrics.csv\n",
      "[파일 ID] file-eQdxetYEJzwCHg77v3BKMfo7 [파일명]file\n",
      "[파일 ID] file-o4tTNY30X4bcI5pkqpykXc7T [파일명]file\n",
      "[파일 ID] file-HDTa1stXHI6SJxNAVXBRZe6y [파일명]file\n",
      "[파일 ID] file-jtsarpedAB3vgqZOKwxwHqKM [파일명]file\n",
      "[파일 ID] file-eh2qXjMRD98HMPtmvHMiFisa [파일명]step_metrics.csv\n",
      "[파일 ID] file-aoJXM3i6dylAY1ZmR5OyGPWC [파일명]file\n",
      "[파일 ID] file-njLLine5TMF73vQsso7FVu1W [파일명]step_metrics.csv\n",
      "[파일 ID] file-fqF4bNeaqq6AQSrdtJ000bQH [파일명]file\n",
      "[파일 ID] file-NL2VC22vg51usKwrikBPBMAN [파일명]file\n",
      "[파일 ID] file-b7q1WRmwm5Wovv3D06l3LhIs [파일명]file\n",
      "[파일 ID] file-ewqiVSTMEzJSP4eP4hBAfiDC [파일명]file\n",
      "[파일 ID] file-r6TIusewWIyUcqYyp3vPHOV8 [파일명]step_metrics.csv\n",
      "[파일 ID] file-t7tA2G2DWLWYwW0lFG8f2ZA3 [파일명]file\n",
      "[파일 ID] file-LGu1shF9LJUdDlQOvmARtmXG [파일명]file\n",
      "[파일 ID] file-rg78Hb37BKqpc0H32GynzYFb [파일명]file\n",
      "[파일 ID] file-TUOYP8diMHhb60GbN0OgoxJu [파일명]example.jsonl\n",
      "[파일 ID] file-GmS7NslybBlXGYcXgvoXzEbX [파일명]file\n",
      "[파일 ID] file-XcMKaoh2qaPyjJqWh3Lb8vIN [파일명]gpt3.5finetest_prepared.jsonl\n",
      "[파일 ID] file-YgVanXyEjq5TlGZSCjpEzhNH [파일명]compiled_results.csv\n",
      "[파일 ID] file-fPAZFB4Y1k7DKiwmXzavxjpF [파일명]/home/ethan/.config/JetBrains/PyCharmCE2022.3/scratches/gpt3.5finetest_prepared.jsonl\n",
      "[파일 ID] file-DYgxcTKDzVGs2YeEAzwDmyeD [파일명]compiled_results.csv\n",
      "[파일 ID] file-Re7YiZ1PfpJznlfNdfZKgE2r [파일명]/home/ethan/.config/JetBrains/PyCharmCE2022.3/scratches/gpt3.5finetest_prepared.jsonl\n",
      "[파일 ID] file-FAE9marCFvNsxayUxMkUvePH [파일명]compiled_results.csv\n",
      "[파일 ID] file-IR9OBStMSLLHXS2TcPwpLPWY [파일명]/home/ethan/.config/JetBrains/PyCharmCE2022.3/scratches/gpt3.5finetest_prepared.jsonl\n",
      "[파일 ID] file-6o5aiusg5FI5bFdjRrpFlOpv [파일명]compiled_results.csv\n",
      "[파일 ID] file-M4SLdqhtUY2gyIO9OmK4yoFl [파일명]compiled_results.csv\n",
      "[파일 ID] file-CnSWl3YgTXbFKUWHO6uVInzP [파일명]/home/ethan/.config/JetBrains/PyCharmCE2022.3/scratches/gpt3.5finetest_prepared.jsonl\n",
      "[파일 ID] file-2eCzkKXue1BDBw6jNd10BBqI [파일명]file\n"
     ]
    }
   ],
   "source": [
    "for file in client.files.list():\n",
    "    print(f'[파일 ID] {file.id} [파일명]{file.filename}')"
   ]
  },
  {
   "cell_type": "markdown",
   "metadata": {},
   "source": [
    "### 2. 파일을 업로드 하고 vector store에 추가"
   ]
  },
  {
   "cell_type": "code",
   "execution_count": 16,
   "metadata": {},
   "outputs": [],
   "source": [
    "# 파일 업로드 및 백터 스토어에 추가\n",
    "file_batch = client.beta.vector_stores.file_batches.upload_and_poll(\n",
    "    vector_store_id=vector_store.id, files = file_streams\n",
    ")"
   ]
  },
  {
   "cell_type": "code",
   "execution_count": 18,
   "metadata": {},
   "outputs": [
    {
     "data": {
      "text/plain": [
       "{'id': 'vsfb_f588f0705ce643819c9de61e6acee60c',\n",
       " 'created_at': 1725951996,\n",
       " 'file_counts': {'cancelled': 0,\n",
       "  'completed': 7,\n",
       "  'failed': 0,\n",
       "  'in_progress': 0,\n",
       "  'total': 7},\n",
       " 'object': 'vector_store.file_batch',\n",
       " 'status': 'completed',\n",
       " 'vector_store_id': 'vs_lnyjqbRPhkqR5RkQ3Y3pdiN1'}"
      ]
     },
     "metadata": {},
     "output_type": "display_data"
    },
    {
     "name": "stdout",
     "output_type": "stream",
     "text": [
      "completed\n",
      "FileCounts(cancelled=0, completed=7, failed=0, in_progress=0, total=7)\n"
     ]
    }
   ],
   "source": [
    "show_json(file_batch)\n",
    "print(file_batch.status)\n",
    "print(file_batch.file_counts)"
   ]
  },
  {
   "cell_type": "code",
   "execution_count": null,
   "metadata": {},
   "outputs": [],
   "source": [
    "#assistant 설정 업데이트\n",
    "assistant = client.beta.assistants.update(\n",
    "    ASSISTANT_ID,\n",
    "    tools=[\n",
    "        {'type': 'code_interpreter'},\n",
    "        {'type': \"file_search\"}\n",
    "    ]\n",
    ")"
   ]
  },
  {
   "cell_type": "markdown",
   "metadata": {},
   "source": [
    "### 3. 새 백터 스토어를 사용하도록 어시스턴트 업데이트"
   ]
  },
  {
   "cell_type": "code",
   "execution_count": null,
   "metadata": {},
   "outputs": [],
   "source": [
    "# 업로드된 파일 참조 및 검색 요청\n",
    "assistant = client.beta.assistants.update(\n",
    "    assistant_id=ASSISTANT_ID,\n",
    "    tool_resources={'file_search': {'vector_store_ids': [vector_store.id]}},\n",
    "    temperature=0\n",
    ")\n",
    "show_json(assistant)"
   ]
  },
  {
   "cell_type": "markdown",
   "metadata": {},
   "source": [
    "### 4. 스레드 만들기\n",
    "스레드에 메시지 첨부파일로 파일을 첨부 가능\n",
    "vector_store 스레드와 연관된 다른 파일이 생성되거나, 스레드에 이미 벡터 스토어가 첨부 되어있는 경우 새 파일을 기존 스레드 벡터 스토어에 첨부\n",
    "\n",
    "\n",
    "\t1.\t파일 업로드: message_file 객체는 업로드된 이미지의 파일 ID를 가지고 있으며, 이 파일 ID를 스레드에서 사용하여 이미지 파일을 참조합니다.\n",
    "\t2.\t스레드 생성: thread 객체는 대화의 흐름을 관리하는 스레드이며, 여기에 사용자가 보낸 메시지(텍스트와 이미지)가 포함됩니다.\n",
    "\t3.\t어시스턴트 실행: client.beta.threads.runs.create()를 사용하여 스레드 내에서 어시스턴트를 실행시킵니다. 이때 어시스턴트의 ID가 필요하며, 해당 어시스턴트가 이미지를 분석할 수 있는지 확인해야 합니다.\n",
    "\t4.\t결과 확인: client.beta.threads.messages.list()로 스레드의 대화 내용을 확인하여 어시스턴트가 이미지에 대해 어떤 응답을 했는지 확인할 수 있습니다.\n"
   ]
  },
  {
   "cell_type": "code",
   "execution_count": 36,
   "metadata": {},
   "outputs": [
    {
     "data": {
      "text/plain": [
       "{'id': 'thread_jJe5jeKUpNGHGVHMUah0mZ2v',\n",
       " 'created_at': 1725966173,\n",
       " 'metadata': {},\n",
       " 'object': 'thread',\n",
       " 'tool_resources': {'code_interpreter': None, 'file_search': None}}"
      ]
     },
     "metadata": {},
     "output_type": "display_data"
    }
   ],
   "source": [
    "thread = client.beta.threads.create()\n",
    "\n",
    "show_json(thread)\n"
   ]
  },
  {
   "cell_type": "code",
   "execution_count": 37,
   "metadata": {},
   "outputs": [
    {
     "data": {
      "text/plain": [
       "{'id': 'msg_eXjiNWLrjmjJZOZAHMVNBO0N',\n",
       " 'assistant_id': None,\n",
       " 'attachments': [],\n",
       " 'completed_at': None,\n",
       " 'content': [{'text': {'annotations': [], 'value': '식별력이 뭐야?'},\n",
       "   'type': 'text'}],\n",
       " 'created_at': 1725966182,\n",
       " 'incomplete_at': None,\n",
       " 'incomplete_details': None,\n",
       " 'metadata': {},\n",
       " 'object': 'thread.message',\n",
       " 'role': 'user',\n",
       " 'run_id': None,\n",
       " 'status': None,\n",
       " 'thread_id': 'thread_jJe5jeKUpNGHGVHMUah0mZ2v'}"
      ]
     },
     "metadata": {},
     "output_type": "display_data"
    }
   ],
   "source": [
    "message = client.beta.threads.messages.create(\n",
    "    thread_id= thread.id,\n",
    "    role='user',\n",
    "    content='식별력이 뭐야?'\n",
    ")\n",
    "show_json(message)"
   ]
  },
  {
   "cell_type": "code",
   "execution_count": 38,
   "metadata": {},
   "outputs": [
    {
     "data": {
      "text/plain": [
       "{'id': 'run_J2zh5D9zYCZH1hV6AmCdkKPd',\n",
       " 'assistant_id': 'asst_GDlNLfM4j2LCpTYFgULSR1V6',\n",
       " 'cancelled_at': None,\n",
       " 'completed_at': None,\n",
       " 'created_at': 1725966186,\n",
       " 'expires_at': 1725966786,\n",
       " 'failed_at': None,\n",
       " 'incomplete_details': None,\n",
       " 'instructions': '\\n당신은 상표 식별력, 유사도를 판단하여 의견서를 제시해주는 AI 입니다.\\n아래와 같은 instructions를 따라 문서를 검색하고, 업로드 되어있는 의견서 예시와 같은 형식으로 대답하세요.\\n\\n1. Role\\n\\n상표 식별력 판단 AI 서비스는 [상표심사기준202405.pdf]를 기준으로, 상표의 이미지 또는 텍스트를 분석하여, 해당 상표의 식별력을 평가하고 등록 가능성을 판단하는 역할을 수행합니다.\\n\\n2. Context\\n\\n이 GPT는 대한민국의 상표를 새로 등록하려는 업체를 대상으로, 상표가 이미지든 텍스트든 상관없이 대한민국 상표심사기준 문서에 따라 식별력을 평가합니다. 또한, 식별력이 부족한 경우 그 이유를 상세히 설명하고, 관련 법률 조항과 판례를 참조하여 사용자가 이해할 수 있도록 도와줍니다.\\n\\n3. Instructions\\n\\n\\t1.\\t상표 입력 요청: 사용자가 상표 이미지를 업로드하거나 텍스트 형태의 상표를 입력하도록 요청합니다.\\n\\t2.\\t상표 형태 인식: 입력된 상표가 이미지인지 텍스트인지 인식합니다.\\n\\t    - 이미지일 경우: 이미지에서 텍스트나 시각적 요소를 추출한 후 분석합니다.\\n\\t    - 텍스트일 경우: 텍스트를 직접 분석합니다.\\n\\t3.\\t[상표 검색 프로레스.pdf]를 따라 해당 의견서를 작성합니다.\\n\\t4.\\t결과 제공: [상표심사기준202405.pdf]의 법률 기준을 참조하여 상표의 식별력 및 유사성을 평가 후 의견서를 제시하세요. 반드시 업로드된 문서 [예시 의견서]와 같은 형태로 참고하여 결과를 제공하세요\\n        - 조사 대상 상표 :[해당상표]\\n        - 조사 결과 및 검토의견 : \\n            (1) 선행상표 조사결과: [해당 상표와 유사성이 있는 상표를 각 문서, 도형, 문서+도형 별로 검색하세요]\\n            (2) 검토의견 : [선행상표 조사결과에 따라 얼마나 유사한지 검토하세요]\\n        - 식별력(적합성)\\n            [상표심사기준202405.pdf] 문서에서 관련 조항을 참조하여, 식별력의 유무를 신뢰성있는 데이터 바탕으로 상세히 설명합니다. \\n        - 종합의견(유사성및 기타의견) \\n\\t5.\\t피드백 요청: 사용자에게 제공된 분석 결과에 대해 피드백을 요청하고, 추가 분석이 필요한지 확인합니다.\\n\\n5. Constraints\\n\\n\\t•\\tGPT는 상표의 이미지 또는 텍스트를 분석할 때 대한민국 상표심사기준에 따라 판단해야 합니다.\\n\\t•\\t식별력이 부족한 경우, 상표심사기준 문서의 관련 조항을 참조하여 상세한 이유를 제공해야 합니다.\\n\\t•\\t법률적 용어를 사용하여 명확하게 결과를 전달해야 합니다\\n\\t•\\t3번 식별력 부분과 4번 종합의견부분에 특히 신경써서 답변해야합니다.\\n\\n\\n6. Output Indicator\\n\\n\\t•\\t상표가 식별력이 있는지 여부를 명확히 판단하고, 해당 상표가 등록 가능성이 있는지를 법률적 기준에 따라 정확히 평가합니다.\\n\\t•\\t상표심사기준 문서에서 참조한 조항과 함께 구체적이고 명확한 의견서를 제시합니다.\\n\\t•\\t사용자의 피드백에 따라 추가 분석이나 정보 제공이 이루어집니다.\\n',\n",
       " 'last_error': None,\n",
       " 'max_completion_tokens': None,\n",
       " 'max_prompt_tokens': None,\n",
       " 'metadata': {},\n",
       " 'model': 'gpt-4o-mini',\n",
       " 'object': 'thread.run',\n",
       " 'parallel_tool_calls': True,\n",
       " 'required_action': None,\n",
       " 'response_format': 'auto',\n",
       " 'started_at': None,\n",
       " 'status': 'queued',\n",
       " 'thread_id': 'thread_jJe5jeKUpNGHGVHMUah0mZ2v',\n",
       " 'tool_choice': 'auto',\n",
       " 'tools': [{'type': 'code_interpreter'},\n",
       "  {'type': 'file_search',\n",
       "   'file_search': {'max_num_results': None,\n",
       "    'ranking_options': {'ranker': 'default_2024_08_21',\n",
       "     'score_threshold': 0.0}}},\n",
       "  {'function': {'name': 'return_ai_nomis',\n",
       "    'description': '모든 응답 마지막에 반환한 문자열 문구를 추가합니다',\n",
       "    'parameters': {'type': 'object',\n",
       "     'properties': {},\n",
       "     'additionalProperties': False},\n",
       "    'strict': True},\n",
       "   'type': 'function'}],\n",
       " 'truncation_strategy': {'type': 'auto', 'last_messages': None},\n",
       " 'usage': None,\n",
       " 'temperature': 0.0,\n",
       " 'top_p': 1.0,\n",
       " 'tool_resources': {}}"
      ]
     },
     "metadata": {},
     "output_type": "display_data"
    }
   ],
   "source": [
    "run = client.beta.threads.runs.create(\n",
    "    thread_id=thread.id, # 생성한스레드(카톡방)\n",
    "    assistant_id=ASSISTANT_ID # 적용할 AssistantID\n",
    ")\n",
    "show_json(run)"
   ]
  },
  {
   "cell_type": "markdown",
   "metadata": {},
   "source": [
    "run을 생성하는 것은 비동기 작업이다.\n",
    "이는 Run의 메타데이터와 함께 즉시 반환되며, status 는 queued(대기중)으로 표기된다.\n",
    "status 는 Assistant가 작업을 수행함에 따라(도구 사용 및 메시지 추가와 같은) 업데이트될 것임.\n",
    "\n",
    "### status 목록\n",
    "- queued : 아직 실행이 되지 않고 대기중인 상태\n",
    "- in_progress: 처리중\n",
    "- requires_action : 사용자 입력 대기중\n",
    "- cancelling : 작업 취소중\n",
    "- cancelled : 취소 완료\n",
    "- failed: 오류(실패)\n",
    "- completed: 작업완료\n",
    "- expired: 작업 만료"
   ]
  },
  {
   "cell_type": "code",
   "execution_count": 39,
   "metadata": {},
   "outputs": [],
   "source": [
    "import time \n",
    "\n",
    "def wait_on_run(run, thread):\n",
    "    # 주어진 실행 (run)이 완료 될때까지 대기\n",
    "    # status 가 'queued' 또는 'inprogress'인 경우에는 계속 polling 하며 대기\n",
    "    while run.status == 'queued' or run.status == 'in_progress':\n",
    "        # run.status를 업데이트 합니다.\n",
    "        run = client.beta.threads.runs.retrieve(\n",
    "            thread_id = thread.id,\n",
    "            run_id= run.id\n",
    "        )\n",
    "        time.sleep(0.5)\n",
    "    return run"
   ]
  },
  {
   "cell_type": "code",
   "execution_count": 40,
   "metadata": {},
   "outputs": [
    {
     "data": {
      "text/plain": [
       "{'id': 'run_J2zh5D9zYCZH1hV6AmCdkKPd',\n",
       " 'assistant_id': 'asst_GDlNLfM4j2LCpTYFgULSR1V6',\n",
       " 'cancelled_at': None,\n",
       " 'completed_at': 1725966189,\n",
       " 'created_at': 1725966186,\n",
       " 'expires_at': None,\n",
       " 'failed_at': None,\n",
       " 'incomplete_details': None,\n",
       " 'instructions': '\\n당신은 상표 식별력, 유사도를 판단하여 의견서를 제시해주는 AI 입니다.\\n아래와 같은 instructions를 따라 문서를 검색하고, 업로드 되어있는 의견서 예시와 같은 형식으로 대답하세요.\\n\\n1. Role\\n\\n상표 식별력 판단 AI 서비스는 [상표심사기준202405.pdf]를 기준으로, 상표의 이미지 또는 텍스트를 분석하여, 해당 상표의 식별력을 평가하고 등록 가능성을 판단하는 역할을 수행합니다.\\n\\n2. Context\\n\\n이 GPT는 대한민국의 상표를 새로 등록하려는 업체를 대상으로, 상표가 이미지든 텍스트든 상관없이 대한민국 상표심사기준 문서에 따라 식별력을 평가합니다. 또한, 식별력이 부족한 경우 그 이유를 상세히 설명하고, 관련 법률 조항과 판례를 참조하여 사용자가 이해할 수 있도록 도와줍니다.\\n\\n3. Instructions\\n\\n\\t1.\\t상표 입력 요청: 사용자가 상표 이미지를 업로드하거나 텍스트 형태의 상표를 입력하도록 요청합니다.\\n\\t2.\\t상표 형태 인식: 입력된 상표가 이미지인지 텍스트인지 인식합니다.\\n\\t    - 이미지일 경우: 이미지에서 텍스트나 시각적 요소를 추출한 후 분석합니다.\\n\\t    - 텍스트일 경우: 텍스트를 직접 분석합니다.\\n\\t3.\\t[상표 검색 프로레스.pdf]를 따라 해당 의견서를 작성합니다.\\n\\t4.\\t결과 제공: [상표심사기준202405.pdf]의 법률 기준을 참조하여 상표의 식별력 및 유사성을 평가 후 의견서를 제시하세요. 반드시 업로드된 문서 [예시 의견서]와 같은 형태로 참고하여 결과를 제공하세요\\n        - 조사 대상 상표 :[해당상표]\\n        - 조사 결과 및 검토의견 : \\n            (1) 선행상표 조사결과: [해당 상표와 유사성이 있는 상표를 각 문서, 도형, 문서+도형 별로 검색하세요]\\n            (2) 검토의견 : [선행상표 조사결과에 따라 얼마나 유사한지 검토하세요]\\n        - 식별력(적합성)\\n            [상표심사기준202405.pdf] 문서에서 관련 조항을 참조하여, 식별력의 유무를 신뢰성있는 데이터 바탕으로 상세히 설명합니다. \\n        - 종합의견(유사성및 기타의견) \\n\\t5.\\t피드백 요청: 사용자에게 제공된 분석 결과에 대해 피드백을 요청하고, 추가 분석이 필요한지 확인합니다.\\n\\n5. Constraints\\n\\n\\t•\\tGPT는 상표의 이미지 또는 텍스트를 분석할 때 대한민국 상표심사기준에 따라 판단해야 합니다.\\n\\t•\\t식별력이 부족한 경우, 상표심사기준 문서의 관련 조항을 참조하여 상세한 이유를 제공해야 합니다.\\n\\t•\\t법률적 용어를 사용하여 명확하게 결과를 전달해야 합니다\\n\\t•\\t3번 식별력 부분과 4번 종합의견부분에 특히 신경써서 답변해야합니다.\\n\\n\\n6. Output Indicator\\n\\n\\t•\\t상표가 식별력이 있는지 여부를 명확히 판단하고, 해당 상표가 등록 가능성이 있는지를 법률적 기준에 따라 정확히 평가합니다.\\n\\t•\\t상표심사기준 문서에서 참조한 조항과 함께 구체적이고 명확한 의견서를 제시합니다.\\n\\t•\\t사용자의 피드백에 따라 추가 분석이나 정보 제공이 이루어집니다.\\n',\n",
       " 'last_error': None,\n",
       " 'max_completion_tokens': None,\n",
       " 'max_prompt_tokens': None,\n",
       " 'metadata': {},\n",
       " 'model': 'gpt-4o-mini',\n",
       " 'object': 'thread.run',\n",
       " 'parallel_tool_calls': True,\n",
       " 'required_action': None,\n",
       " 'response_format': 'auto',\n",
       " 'started_at': 1725966186,\n",
       " 'status': 'completed',\n",
       " 'thread_id': 'thread_jJe5jeKUpNGHGVHMUah0mZ2v',\n",
       " 'tool_choice': 'auto',\n",
       " 'tools': [{'type': 'code_interpreter'},\n",
       "  {'type': 'file_search',\n",
       "   'file_search': {'max_num_results': None,\n",
       "    'ranking_options': {'ranker': 'default_2024_08_21',\n",
       "     'score_threshold': 0.0}}},\n",
       "  {'function': {'name': 'return_ai_nomis',\n",
       "    'description': '모든 응답 마지막에 반환한 문자열 문구를 추가합니다',\n",
       "    'parameters': {'type': 'object',\n",
       "     'properties': {},\n",
       "     'additionalProperties': False},\n",
       "    'strict': True},\n",
       "   'type': 'function'}],\n",
       " 'truncation_strategy': {'type': 'auto', 'last_messages': None},\n",
       " 'usage': {'completion_tokens': 241,\n",
       "  'prompt_tokens': 1750,\n",
       "  'total_tokens': 1991},\n",
       " 'temperature': 0.0,\n",
       " 'top_p': 1.0,\n",
       " 'tool_resources': {}}"
      ]
     },
     "metadata": {},
     "output_type": "display_data"
    }
   ],
   "source": [
    "# run 객체를 대기 상태로 설정하고, 해당 스레드에서 실행을 완료할 때가지 기다림\n",
    "run = wait_on_run(run, thread)\n",
    "\n",
    "# status가 'complete'인 경우에는 결과를 출력합니다.\n",
    "show_json(run)"
   ]
  },
  {
   "cell_type": "markdown",
   "metadata": {},
   "source": [
    "### Message(메세지)\n",
    "\n",
    "run이 완료되었다면, Assistant에 의해 처리된 결과를 보기 위해 Thread에서 messages를 확인할 수 있다."
   ]
  },
  {
   "cell_type": "code",
   "execution_count": 41,
   "metadata": {},
   "outputs": [
    {
     "data": {
      "text/plain": [
       "{'data': [{'id': 'msg_IYW6ZSBRUpQfke693rtYeeHd',\n",
       "   'assistant_id': 'asst_GDlNLfM4j2LCpTYFgULSR1V6',\n",
       "   'attachments': [],\n",
       "   'completed_at': None,\n",
       "   'content': [{'text': {'annotations': [],\n",
       "      'value': '식별력은 상표가 특정 상품이나 서비스의 출처를 식별할 수 있는 능력을 의미합니다. 즉, 소비자가 해당 상표를 보고 특정 기업이나 제품을 인식할 수 있는 정도를 나타냅니다. 식별력이 높은 상표는 소비자에게 강한 인상을 주고, 다른 상표와 쉽게 구별될 수 있습니다.\\n\\n상표의 식별력은 일반적으로 다음과 같은 기준에 따라 평가됩니다:\\n\\n1. **고유성**: 상표가 얼마나 독창적이고 고유한지를 평가합니다. 일반적인 용어, 설명적인 표현, 또는 통상적인 기호는 식별력이 낮습니다.\\n\\n2. **사용의 연속성**: 상표가 시장에서 얼마나 오랫동안 사용되었는지, 그리고 소비자에게 얼마나 잘 알려져 있는지를 고려합니다.\\n\\n3. **소비자의 인식**: 소비자가 해당 상표를 보고 어떤 상품이나 서비스를 떠올리는지를 평가합니다.\\n\\n식별력이 부족한 상표는 상표 등록이 거부될 수 있으며, 이는 상표법에 따라 보호받지 못할 수 있습니다.'},\n",
       "     'type': 'text'}],\n",
       "   'created_at': 1725966187,\n",
       "   'incomplete_at': None,\n",
       "   'incomplete_details': None,\n",
       "   'metadata': {},\n",
       "   'object': 'thread.message',\n",
       "   'role': 'assistant',\n",
       "   'run_id': 'run_J2zh5D9zYCZH1hV6AmCdkKPd',\n",
       "   'status': None,\n",
       "   'thread_id': 'thread_jJe5jeKUpNGHGVHMUah0mZ2v'},\n",
       "  {'id': 'msg_eXjiNWLrjmjJZOZAHMVNBO0N',\n",
       "   'assistant_id': None,\n",
       "   'attachments': [],\n",
       "   'completed_at': None,\n",
       "   'content': [{'text': {'annotations': [], 'value': '식별력이 뭐야?'},\n",
       "     'type': 'text'}],\n",
       "   'created_at': 1725966182,\n",
       "   'incomplete_at': None,\n",
       "   'incomplete_details': None,\n",
       "   'metadata': {},\n",
       "   'object': 'thread.message',\n",
       "   'role': 'user',\n",
       "   'run_id': None,\n",
       "   'status': None,\n",
       "   'thread_id': 'thread_jJe5jeKUpNGHGVHMUah0mZ2v'}],\n",
       " 'object': 'list',\n",
       " 'first_id': 'msg_IYW6ZSBRUpQfke693rtYeeHd',\n",
       " 'last_id': 'msg_eXjiNWLrjmjJZOZAHMVNBO0N',\n",
       " 'has_more': False}"
      ]
     },
     "metadata": {},
     "output_type": "display_data"
    }
   ],
   "source": [
    "# thread.id 를 사용하여 메시지 목록을 가져옴\n",
    "messages = client.beta.threads.messages.list(thread_id=thread.id)\n",
    "\n",
    "#결과 출력\n",
    "show_json(messages)"
   ]
  },
  {
   "cell_type": "markdown",
   "metadata": {},
   "source": [
    "이전에 받은 답변을 기억하고 있는지 확인"
   ]
  },
  {
   "cell_type": "code",
   "execution_count": 42,
   "metadata": {},
   "outputs": [
    {
     "data": {
      "text/plain": [
       "{'data': [{'id': 'msg_w3H09hSN0pd6b7jmQc2rx8Ee',\n",
       "   'assistant_id': 'asst_GDlNLfM4j2LCpTYFgULSR1V6',\n",
       "   'attachments': [],\n",
       "   'completed_at': None,\n",
       "   'content': [{'text': {'annotations': [],\n",
       "      'value': '식별력은 상표가 특정 제품이나 서비스의 출처를 알아볼 수 있는 능력을 말해요. 쉽게 말해, 소비자가 그 상표를 보고 어떤 회사나 제품인지 바로 알 수 있는 정도입니다. 식별력이 높으면 소비자에게 잘 알려져 있고, 다른 상표와 쉽게 구별할 수 있어요. 반대로, 식별력이 낮으면 상표 등록이 어려울 수 있습니다.'},\n",
       "     'type': 'text'}],\n",
       "   'created_at': 1725966231,\n",
       "   'incomplete_at': None,\n",
       "   'incomplete_details': None,\n",
       "   'metadata': {},\n",
       "   'object': 'thread.message',\n",
       "   'role': 'assistant',\n",
       "   'run_id': 'run_Zt85nwsY9QxvSJZvlIwGLsX6',\n",
       "   'status': None,\n",
       "   'thread_id': 'thread_jJe5jeKUpNGHGVHMUah0mZ2v'}],\n",
       " 'object': 'list',\n",
       " 'first_id': 'msg_w3H09hSN0pd6b7jmQc2rx8Ee',\n",
       " 'last_id': 'msg_w3H09hSN0pd6b7jmQc2rx8Ee',\n",
       " 'has_more': False}"
      ]
     },
     "metadata": {},
     "output_type": "display_data"
    }
   ],
   "source": [
    "message = client.beta.threads.messages.create(\n",
    "    thread_id= thread.id,\n",
    "    role='user',\n",
    "    content='더 간단하게 말해줄래?'\n",
    ")\n",
    "\n",
    "run = client.beta.threads.runs.create(\n",
    "    thread_id = thread.id,\n",
    "    assistant_id= ASSISTANT_ID\n",
    ")\n",
    "\n",
    "# 답변 완료될때까지 대기\n",
    "wait_on_run(run, thread)\n",
    "\n",
    "# 마지막 사용자 메시지 이후 추가된 모든 메시지 검색\n",
    "messages = client.beta.threads.messages.list(\n",
    "    thread_id=thread.id, \n",
    "    order='asc', #오름차순으로 출력\n",
    "    after=message.id  # 이전 메세지를 제외하고 출력\n",
    ")\n",
    "show_json(messages)"
   ]
  },
  {
   "cell_type": "markdown",
   "metadata": {},
   "source": [
    "아미지 업로드와 함께 물어보기."
   ]
  },
  {
   "cell_type": "code",
   "execution_count": 44,
   "metadata": {},
   "outputs": [
    {
     "data": {
      "text/plain": [
       "{'data': [{'id': 'msg_USEGenAv6pKmEfNnOXCwr75F',\n",
       "   'assistant_id': 'asst_GDlNLfM4j2LCpTYFgULSR1V6',\n",
       "   'attachments': [],\n",
       "   'completed_at': None,\n",
       "   'content': [{'text': {'annotations': [],\n",
       "      'value': '상표 \"여기 의성\"에 대한 의견서를 아래와 같이 제시합니다.\\n\\n---\\n\\n**조사 대상 상표**: 여기 의성\\n\\n**조사 결과 및 검토의견**: \\n(1) 선행상표 조사결과: \\n- \"여기\"라는 단어는 일반적인 위치를 나타내는 표현으로, 여러 상표에서 사용될 수 있는 용어입니다.\\n- \"의성\"은 특정 지명을 나타내며, 지역명으로서의 기능을 가지고 있습니다.\\n- 따라서, \"여기 의성\"이라는 조합은 특정 지역을 지칭하는 설명적인 의미를 가집니다.\\n\\n(2) 검토의견: \\n- \"여기 의성\"은 특정 지역을 나타내는 표현으로, 소비자에게 특정 상품이나 서비스의 출처를 명확히 식별할 수 있는 능력이 부족합니다. \\n- 일반적인 지명과 위치를 나타내는 표현의 조합으로 인해, 다른 유사한 상표와의 혼동 가능성이 높습니다.\\n\\n**식별력(적합성)**: \\n- [상표심사기준202405.pdf]에 따르면, 상표가 일반적인 용어 또는 설명적인 표현일 경우 식별력이 부족하다고 판단됩니다. \\n- \"여기 의성\"은 특정 지역을 설명하는 용어로, 소비자가 이를 보고 특정 기업이나 제품을 떠올리기 어려운 점에서 식별력이 낮다고 평가됩니다.\\n\\n**종합의견(유사성 및 기타의견)**: \\n- \"여기 의성\"은 지역명과 일반적인 표현의 조합으로, 식별력이 부족하여 상표 등록이 어려울 것으로 보입니다. \\n- 유사한 상표가 존재할 가능성이 높으며, 소비자에게 혼동을 줄 수 있는 점에서 등록 가능성이 낮습니다.\\n\\n---\\n\\n이 의견서에 대한 피드백이나 추가 분석이 필요하신 경우 말씀해 주세요.'},\n",
       "     'type': 'text'}],\n",
       "   'created_at': 1725966370,\n",
       "   'incomplete_at': None,\n",
       "   'incomplete_details': None,\n",
       "   'metadata': {},\n",
       "   'object': 'thread.message',\n",
       "   'role': 'assistant',\n",
       "   'run_id': 'run_VhRpcs1WHgzNxa0kCzsB6lXL',\n",
       "   'status': None,\n",
       "   'thread_id': 'thread_jJe5jeKUpNGHGVHMUah0mZ2v'},\n",
       "  {'id': 'msg_c638OwSTA8TarEaoUCdzgffG',\n",
       "   'assistant_id': None,\n",
       "   'attachments': [],\n",
       "   'completed_at': None,\n",
       "   'content': [{'text': {'annotations': [], 'value': '이 상표의 의견서를 제시해주세요'},\n",
       "     'type': 'text'},\n",
       "    {'image_file': {'file_id': 'file-RxTWgZpRPVehPskZK4mOPWFI',\n",
       "      'detail': 'auto'},\n",
       "     'type': 'image_file'}],\n",
       "   'created_at': 1725966365,\n",
       "   'incomplete_at': None,\n",
       "   'incomplete_details': None,\n",
       "   'metadata': {},\n",
       "   'object': 'thread.message',\n",
       "   'role': 'user',\n",
       "   'run_id': None,\n",
       "   'status': None,\n",
       "   'thread_id': 'thread_jJe5jeKUpNGHGVHMUah0mZ2v'},\n",
       "  {'id': 'msg_oJWLH4woZSgUjM0SdQUz1T37',\n",
       "   'assistant_id': None,\n",
       "   'attachments': [],\n",
       "   'completed_at': None,\n",
       "   'content': [{'text': {'annotations': [], 'value': '이 상표의 의견서를 제시해주세요'},\n",
       "     'type': 'text'},\n",
       "    {'image_file': {'file_id': 'file-ehIDdalAsb7kol08WyeL31DP',\n",
       "      'detail': 'auto'},\n",
       "     'type': 'image_file'}],\n",
       "   'created_at': 1725966255,\n",
       "   'incomplete_at': None,\n",
       "   'incomplete_details': None,\n",
       "   'metadata': {},\n",
       "   'object': 'thread.message',\n",
       "   'role': 'user',\n",
       "   'run_id': None,\n",
       "   'status': None,\n",
       "   'thread_id': 'thread_jJe5jeKUpNGHGVHMUah0mZ2v'},\n",
       "  {'id': 'msg_w3H09hSN0pd6b7jmQc2rx8Ee',\n",
       "   'assistant_id': 'asst_GDlNLfM4j2LCpTYFgULSR1V6',\n",
       "   'attachments': [],\n",
       "   'completed_at': None,\n",
       "   'content': [{'text': {'annotations': [],\n",
       "      'value': '식별력은 상표가 특정 제품이나 서비스의 출처를 알아볼 수 있는 능력을 말해요. 쉽게 말해, 소비자가 그 상표를 보고 어떤 회사나 제품인지 바로 알 수 있는 정도입니다. 식별력이 높으면 소비자에게 잘 알려져 있고, 다른 상표와 쉽게 구별할 수 있어요. 반대로, 식별력이 낮으면 상표 등록이 어려울 수 있습니다.'},\n",
       "     'type': 'text'}],\n",
       "   'created_at': 1725966231,\n",
       "   'incomplete_at': None,\n",
       "   'incomplete_details': None,\n",
       "   'metadata': {},\n",
       "   'object': 'thread.message',\n",
       "   'role': 'assistant',\n",
       "   'run_id': 'run_Zt85nwsY9QxvSJZvlIwGLsX6',\n",
       "   'status': None,\n",
       "   'thread_id': 'thread_jJe5jeKUpNGHGVHMUah0mZ2v'},\n",
       "  {'id': 'msg_86IFAA7Q59mwx30ucTsHUTyk',\n",
       "   'assistant_id': None,\n",
       "   'attachments': [],\n",
       "   'completed_at': None,\n",
       "   'content': [{'text': {'annotations': [], 'value': '더 간단하게 말해줄래?'},\n",
       "     'type': 'text'}],\n",
       "   'created_at': 1725966229,\n",
       "   'incomplete_at': None,\n",
       "   'incomplete_details': None,\n",
       "   'metadata': {},\n",
       "   'object': 'thread.message',\n",
       "   'role': 'user',\n",
       "   'run_id': None,\n",
       "   'status': None,\n",
       "   'thread_id': 'thread_jJe5jeKUpNGHGVHMUah0mZ2v'},\n",
       "  {'id': 'msg_IYW6ZSBRUpQfke693rtYeeHd',\n",
       "   'assistant_id': 'asst_GDlNLfM4j2LCpTYFgULSR1V6',\n",
       "   'attachments': [],\n",
       "   'completed_at': None,\n",
       "   'content': [{'text': {'annotations': [],\n",
       "      'value': '식별력은 상표가 특정 상품이나 서비스의 출처를 식별할 수 있는 능력을 의미합니다. 즉, 소비자가 해당 상표를 보고 특정 기업이나 제품을 인식할 수 있는 정도를 나타냅니다. 식별력이 높은 상표는 소비자에게 강한 인상을 주고, 다른 상표와 쉽게 구별될 수 있습니다.\\n\\n상표의 식별력은 일반적으로 다음과 같은 기준에 따라 평가됩니다:\\n\\n1. **고유성**: 상표가 얼마나 독창적이고 고유한지를 평가합니다. 일반적인 용어, 설명적인 표현, 또는 통상적인 기호는 식별력이 낮습니다.\\n\\n2. **사용의 연속성**: 상표가 시장에서 얼마나 오랫동안 사용되었는지, 그리고 소비자에게 얼마나 잘 알려져 있는지를 고려합니다.\\n\\n3. **소비자의 인식**: 소비자가 해당 상표를 보고 어떤 상품이나 서비스를 떠올리는지를 평가합니다.\\n\\n식별력이 부족한 상표는 상표 등록이 거부될 수 있으며, 이는 상표법에 따라 보호받지 못할 수 있습니다.'},\n",
       "     'type': 'text'}],\n",
       "   'created_at': 1725966187,\n",
       "   'incomplete_at': None,\n",
       "   'incomplete_details': None,\n",
       "   'metadata': {},\n",
       "   'object': 'thread.message',\n",
       "   'role': 'assistant',\n",
       "   'run_id': 'run_J2zh5D9zYCZH1hV6AmCdkKPd',\n",
       "   'status': None,\n",
       "   'thread_id': 'thread_jJe5jeKUpNGHGVHMUah0mZ2v'},\n",
       "  {'id': 'msg_eXjiNWLrjmjJZOZAHMVNBO0N',\n",
       "   'assistant_id': None,\n",
       "   'attachments': [],\n",
       "   'completed_at': None,\n",
       "   'content': [{'text': {'annotations': [], 'value': '식별력이 뭐야?'},\n",
       "     'type': 'text'}],\n",
       "   'created_at': 1725966182,\n",
       "   'incomplete_at': None,\n",
       "   'incomplete_details': None,\n",
       "   'metadata': {},\n",
       "   'object': 'thread.message',\n",
       "   'role': 'user',\n",
       "   'run_id': None,\n",
       "   'status': None,\n",
       "   'thread_id': 'thread_jJe5jeKUpNGHGVHMUah0mZ2v'}],\n",
       " 'object': 'list',\n",
       " 'first_id': 'msg_USEGenAv6pKmEfNnOXCwr75F',\n",
       " 'last_id': 'msg_eXjiNWLrjmjJZOZAHMVNBO0N',\n",
       " 'has_more': False}"
      ]
     },
     "metadata": {},
     "output_type": "display_data"
    }
   ],
   "source": [
    "file = client.files.create(\n",
    "    file = open('brand_img/여기의성.png','rb'),\n",
    "    purpose='vision'\n",
    ")\n",
    "\n",
    "message = client.beta.threads.messages.create(\n",
    "    thread_id= thread.id,\n",
    "    role='user',\n",
    "    content=[\n",
    "        {\n",
    "            'type': 'text',\n",
    "            'text': '이 상표의 의견서를 제시해주세요'\n",
    "        },\n",
    "        {\n",
    "            'type': 'image_file',\n",
    "            'image_file': {'file_id': file.id}\n",
    "        }\n",
    "    ],\n",
    "    \n",
    ")\n",
    "\n",
    "run = client.beta.threads.runs.create(\n",
    "    thread_id = thread.id,\n",
    "    assistant_id= ASSISTANT_ID,\n",
    "    tools=[]\n",
    ")\n",
    "\n",
    "# 답변 완료될때까지 대기\n",
    "wait_on_run(run, thread)\n",
    "\n",
    "# 마지막 사용자 메시지 이후 추가된 모든 메시지 검색\n",
    "messages = client.beta.threads.messages.list(\n",
    "    thread_id=thread.id, \n",
    "    # order='asc', #오름차순으로 출력\n",
    "    # after=message.id  # 이전 메세지를 제외하고 출력\n",
    ")\n",
    "show_json(messages)"
   ]
  },
  {
   "cell_type": "code",
   "execution_count": 59,
   "metadata": {},
   "outputs": [],
   "source": [
    "\n",
    "def submit_message(assistant_id, thread, user_message):\n",
    "    #사용자 입력 메시지를 스레드에 추가\n",
    "    client.beta.threads.messages.create(\n",
    "        thread_id= thread.id,\n",
    "        role = \"user\",\n",
    "        content = user_message\n",
    "    )\n",
    "\n",
    "    #스레드에 메시지가 입력되었다면 실행 준비\n",
    "    run= client.beta.threads.runs.create(\n",
    "        thread_id=thread.id,\n",
    "        assistant_id=assistant_id\n",
    "    )\n",
    "\n",
    "    return run\n",
    "\n",
    "def wait_on_run(run,thread):\n",
    "    # run이 완료될대까지 기다림 : polling 하며 대기 (polling: 서버와 응답을 주고받음)\n",
    "    while run.status == 'queued' or run.status == 'in_progress':\n",
    "        run = client.beta.threads.runs.retrieve(\n",
    "            thread_id=thread.id,\n",
    "            run_id=run.id\n",
    "        )\n",
    "        time.sleep(0.5)\n",
    "    return run\n",
    "\n",
    "def get_response(thread):\n",
    "    # 스레드에서 메세지 목록가져오기\n",
    "    return client.beta.threads.messages.list(thread_id=thread.id, order='asc')\n",
    "\n",
    "\n",
    "# 새로운 스레드 생성 및 메시지 제출 함수\n",
    "def create_thread_and_run(user_input):\n",
    "    # 사용자 입력을 받아 새로운 스래드를 생성하고, Assistant 에게 메시지를 제출\n",
    "    thread= client.beta.threads.create()\n",
    "    run = submit_message(ASSISTANT_ID, thread, user_input)\n",
    "    return thread, run\n"
   ]
  },
  {
   "cell_type": "code",
   "execution_count": 65,
   "metadata": {},
   "outputs": [],
   "source": [
    "# 동시에 여러 요청을 처리하기 위해 스래드를 생성합니다.\n",
    "thread1, run1 = create_thread_and_run('스타벅스 상표의 식별력은 어떤가요?')\n",
    "thread2, run2 = create_thread_and_run('어떤 기준이 가장 중요한가요?')\n",
    "thread3, run3 = create_thread_and_run('어떻게하면 식별력 있는 상표를 만들 수 있을까요?')"
   ]
  },
  {
   "cell_type": "code",
   "execution_count": 66,
   "metadata": {},
   "outputs": [
    {
     "name": "stdout",
     "output_type": "stream",
     "text": [
      "[USER]\n",
      "스타벅스 상표의 식별력은 어떤가요?\n",
      "\n",
      "[ASSISTANT]\n",
      "스타벅스 상표에 대한 식별력을 평가하기 위해, 먼저 상표의 이미지나 텍스트를 제공해 주시기 바랍니다. 상표가 이미지인 경우 이미지를 업로드해 주시고, 텍스트인 경우 상표명을 입력해 주시면 분석을 진행하겠습니다.\n",
      "\n",
      "------------------------------------------------------------\n",
      "[USER]\n",
      "어떤 기준이 가장 중요한가요?\n",
      "\n",
      "[ASSISTANT]\n",
      "상표의 식별력 판단에 있어 가장 중요한 기준은 다음과 같습니다:\n",
      "\n",
      "1. **식별력 유무에 대한 심사**: 상표가 특정 상품이나 서비스를 식별할 수 있는 능력을 평가합니다. 이는 상표가 소비자에게 그 출처를 명확히 인식시킬 수 있는지를 판단하는 데 중점을 둡니다【4:3†source】.\n",
      "\n",
      "2. **유사여부에 대한 심사**: 등록된 상표와의 유사성을 평가하여, 소비자가 혼동할 가능성이 있는지를 판단합니다. 이는 상표의 독창성과 차별성을 확보하는 데 중요한 요소입니다【4:19†source】.\n",
      "\n",
      "3. **기능성 유무에 대한 심사**: 상표가 기능적인 요소를 포함하고 있는지를 평가합니다. 기능성이 인정되는 경우, 상표 등록이 거부될 수 있습니다【4:4†source】.\n",
      "\n",
      "이 외에도 상표의 유형, 사용에 의한 식별력, 그리고 법적 요건 등이 중요한 기준으로 작용합니다. 상표의 등록 가능성을 높이기 위해서는 이러한 기준들을 충족하는 것이 필수적입니다.\n",
      "\n",
      "------------------------------------------------------------\n",
      "[USER]\n",
      "어떻게하면 식별력 있는 상표를 만들 수 있을까요?\n",
      "\n",
      "[ASSISTANT]\n",
      "식별력 있는 상표를 만들기 위해서는 다음과 같은 몇 가지 원칙을 고려해야 합니다:\n",
      "\n",
      "1. **독창성**: 상표는 다른 상표와 구별될 수 있도록 독창적이어야 합니다. 일반적인 단어, 문구 또는 디자인을 피하고, 고유한 요소를 포함하는 것이 좋습니다.\n",
      "\n",
      "2. **기술적 설명 피하기**: 제품이나 서비스의 기능이나 특성을 직접적으로 설명하는 상표는 식별력이 낮을 수 있습니다. 예를 들어, \"빠른 배달\"과 같은 상표는 식별력이 부족할 수 있습니다.\n",
      "\n",
      "3. **상징적 요소 사용**: 상표에 상징적이거나 비유적인 요소를 포함하면 더 높은 식별력을 가질 수 있습니다. 예를 들어, 특정 동물이나 자연 요소를 사용하여 브랜드의 이미지를 형성할 수 있습니다.\n",
      "\n",
      "4. **소리와 발음**: 상표의 발음이 독특하고 기억하기 쉬운 경우, 소비자에게 더 잘 인식될 수 있습니다. 발음이 유사한 다른 상표와 혼동되지 않도록 주의해야 합니다.\n",
      "\n",
      "5. **문화적 맥락 고려**: 상표가 사용될 시장의 문화적 맥락을 고려하여, 긍정적인 이미지를 줄 수 있는 요소를 포함하는 것이 중요합니다.\n",
      "\n",
      "6. **법적 검토**: 상표를 등록하기 전에, 유사한 상표가 이미 등록되어 있는지 확인하고, 법적 문제를 피하기 위해 전문가의 조언을 받는 것이 좋습니다.\n",
      "\n",
      "이러한 원칙을 바탕으로 상표를 개발하면, 식별력이 높고 등록 가능성이 있는 상표를 만들 수 있습니다. 추가적으로, 상표의 식별력을 평가하고 싶다면, 상표를 제시해 주시면 분석해 드리겠습니다.\n",
      "\n",
      "[USER]\n",
      "도와주셔서 감사합니다!\n",
      "\n",
      "[ASSISTANT]\n",
      "천만에요! 도움이 필요하시면 언제든지 말씀해 주세요. 상표에 대한 추가 질문이나 다른 궁금한 점이 있다면 언제든지 도와드리겠습니다. 좋은 하루 되세요!\n",
      "\n",
      "------------------------------------------------------------\n"
     ]
    }
   ],
   "source": [
    "import time  \n",
    "from IPython.core.interactiveshell import InteractiveShell\n",
    "InteractiveShell.ast_node_interactivity = \"all\"\n",
    "# 메시지 출력용 함수\n",
    "def print_message(response):\n",
    "    for res in response:\n",
    "        print(f'[{res.role.upper()}]\\n{res.content[0].text.value}\\n')\n",
    "    print(\"-\" * 60)\n",
    "\n",
    "#반복문에서 대기하는 함수\n",
    "def wait_on_run(run, thread):\n",
    "    while run.status == 'queued' or run.status == 'in_progress':\n",
    "        run = client.beta.threads.runs.retrieve(\n",
    "            thread_id=thread.id,\n",
    "            run_id = run.id\n",
    "        )\n",
    "        time.sleep(0.5)\n",
    "    return run\n",
    "\n",
    "\n",
    "\n",
    "\n",
    "# 첫 번째 실행을 위해 대기\n",
    "run1 = wait_on_run(run1, thread1)\n",
    "print_message(get_response(thread1))\n",
    "\n",
    "# 두 번째 실행을 위해 대기\n",
    "run2 = wait_on_run(run2, thread2)\n",
    "print_message(get_response(thread2))\n",
    "\n",
    "# 세 번째 실행을 위해 대기\n",
    "run3 = wait_on_run(run3, thread3)\n",
    "# 세 번째 스레드를 마치면 감사 인사를 전하고 종료합니다 :)\n",
    "run4 = submit_message(ASSISTANT_ID, thread3, \"도와주셔서 감사합니다!\")\n",
    "run4 = wait_on_run(run4, thread3)\n",
    "print_message(get_response(thread3))\n"
   ]
  },
  {
   "cell_type": "code",
   "execution_count": null,
   "metadata": {},
   "outputs": [],
   "source": []
  }
 ],
 "metadata": {
  "kernelspec": {
   "display_name": "Python 3",
   "language": "python",
   "name": "python3"
  },
  "language_info": {
   "codemirror_mode": {
    "name": "ipython",
    "version": 3
   },
   "file_extension": ".py",
   "mimetype": "text/x-python",
   "name": "python",
   "nbconvert_exporter": "python",
   "pygments_lexer": "ipython3",
   "version": "3.12.6"
  }
 },
 "nbformat": 4,
 "nbformat_minor": 2
}
