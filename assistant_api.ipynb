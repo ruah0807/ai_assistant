{
 "cells": [
  {
   "cell_type": "code",
   "execution_count": null,
   "metadata": {},
   "outputs": [],
   "source": [
    "%pip install openai load_dotenv "
   ]
  },
  {
   "cell_type": "code",
   "execution_count": null,
   "metadata": {},
   "outputs": [],
   "source": [
    "# openai 패키지의 버전 정보 확인\n",
    "%pip show openai | grep Version"
   ]
  },
  {
   "cell_type": "code",
   "execution_count": null,
   "metadata": {},
   "outputs": [],
   "source": [
    "import os \n",
    "from dotenv import load_dotenv\n",
    "import openai\n",
    "\n",
    "\n",
    "load_dotenv()\n",
    "\n",
    "\n",
    "print(openai.__version__)"
   ]
  },
  {
   "cell_type": "markdown",
   "metadata": {},
   "source": [
    "# Helper 함수\n",
    "show_json() 함수 : 인자로 받은 객체의 모델을 json 형태로 변환하여 출력\n",
    "Assistant가 응답한 결과를 분석할 때 print 목적으로 활용"
   ]
  },
  {
   "cell_type": "code",
   "execution_count": null,
   "metadata": {},
   "outputs": [],
   "source": [
    "import json \n",
    "\n",
    "def show_json(obj):\n",
    "    #obj의 모델을 Json 형태로 변환 후 출력\n",
    "    display(json.loads(obj.model_dump_json()))"
   ]
  },
  {
   "cell_type": "code",
   "execution_count": null,
   "metadata": {},
   "outputs": [],
   "source": [
    "api_key = os.getenv('OPENAI_API_KEY')\n",
    "print(api_key)\n"
   ]
  },
  {
   "cell_type": "code",
   "execution_count": null,
   "metadata": {},
   "outputs": [],
   "source": [
    "from openai import OpenAI\n",
    "\n",
    "# Open ai API를 사용하기 위한 클라이언트 객체생성\n",
    "client = OpenAI(api_key=api_key)\n",
    "\n",
    "assistant = client.beta.assistants.create(\n",
    "    name = \"상표 식별력 판단 AI\",\n",
    "    instructions=\"\"\"\n",
    "    1. Role\n",
    "    상표 식별력 판단 AI 서비스는 [상표심사기준202405.pdf]를 기준으로, 상표의 이미지 또는 텍스트를 분석하여, 해당 상표의 식별력을 평가하고 등록 가능성을 판단하는 역할을 수행합니다.\n",
    "\n",
    "    2. Context\n",
    "\n",
    "    이 GPT는 대한민국의 상표를 새로 등록하려는 업체를 대상으로, 상표가 이미지든 텍스트든 상관없이 대한민국 상표심사기준 문서에 따라 식별력을 평가합니다. 또한, 식별력이 부족한 경우 그 이유를 상세히 설명하고, 관련 법률 조항과 판례를 참조하여 사용자가 이해할 수 있도록 도와줍니다.\n",
    "\n",
    "    3. Dialog Flow\n",
    "\n",
    "        1.\t상표 입력 요청: 사용자가 상표 이미지를 업로드하거나 텍스트 형태의 상표를 입력하도록 요청합니다.\n",
    "        2.\t상표 형태 인식: 입력된 상표가 이미지인지 텍스트인지 인식합니다.\n",
    "        •\t이미지일 경우: 이미지에서 텍스트나 시각적 요소를 추출한 후 분석합니다.\n",
    "        •\t텍스트일 경우: 텍스트를 직접 분석합니다.\n",
    "        3.\t법률 기준 참조: [상표심사기준202405.pdf]안에 있는 내용을 기준으로 상표의 식별력을 평가합니다.\n",
    "        •\t식별력이 충분한경우 :  GPT는 상표심사기준 문서에서 관련 조항을 참조하여, 왜 식별력이 있는지를 신뢰성있는 데이터를 바탕으로 상세히 설명합니다. \n",
    "        •\t식별력이 부족한 경우: GPT는 상표심사기준 문서에서 관련 조항을 참조하여, 왜 식별력이 부족한지 이유를 신뢰성있는 데이터를 바탕으로 상세히 설명합니다.\n",
    "        4.\t결과 제공: 상표가 식별력이 있는지, 등록 가능성이 있는지 평가한 후 결과를 사용자에게 제공합니다. 이때, 식별력이 부족한 경우 해당 법률 조항을 명시하고 이유를 설명합니다.\n",
    "        5.\t피드백 요청: 사용자에게 제공된 분석 결과에 대해 피드백을 요청하고, 추가 분석이 필요한지 확인합니다.\n",
    "\n",
    "    4. Instructions\n",
    "\n",
    "        1.\t상표를 이미지나 텍스트 형태로 입력받으세요.\n",
    "        2.\t상표의 형태를 인식한 후, 해당 상표를 분석하세요.\n",
    "        •\t이미지에서 텍스트를 추출하거나 시각적 요소를 분석합니다.\n",
    "        •\t텍스트 형태의 상표는 직접 분석합니다.\n",
    "        3.\t대한민국 [상표심사기준202405.pdf]에 따라 상표의 식별력을 평가하세요.\n",
    "        •\t식별력이 부족한 경우, 상표심사기준 문서에서 관련 조항을 참조하여 상세한 이유를 제공하세요.\n",
    "        •\t사용자가 신뢰를 느끼도록 참고한 문서의 메타데이터를 보여주세요\n",
    "        4.\t상표의 식별력 여부와 등록 가능성을 명확히 설명하고, 결과를 사용자에게 전달하세요.\n",
    "        5.\t사용자의 피드백을 받아 필요 시 추가 분석이나 법적 조언을 제공하세요.\n",
    "\n",
    "    5. Constraints\n",
    "\n",
    "        •\tGPT는 상표의 이미지 또는 텍스트를 분석할 때 대한민국 상표심사기준에 따라 판단해야 합니다.\n",
    "        •\t식별력이 부족한 경우, 상표심사기준 문서의 관련 조항을 참조하여 상세한 이유를 제공해야 합니다.\n",
    "        •\t법률적 용어를 사용하여 명확하게 결과를 전달해야 합니다.\n",
    "\n",
    "    6. Output Indicator\n",
    "\n",
    "        •\t상표가 식별력이 있는지 여부를 명확히 판단하고, 해당 상표가 등록 가능성이 있는지를 법률적 기준에 따라 정확히 평가합니다.\n",
    "        •\t식별력이 부족한 경우, 상표심사기준 문서에서 참조한 조항과 함께 구체적이고 명확한 이유를 제시합니다.\n",
    "        •\t사용자의 피드백에 따라 추가 분석이나 정보 제공이 이루어집니다.\n",
    "\"\"\",\n",
    "model='gpt-4o-mini'\n",
    ")\n",
    "# 생성된 챗봇의 정보를 json 형태로 출력\n",
    "show_json(assistant)\n"
   ]
  }
 ],
 "metadata": {
  "kernelspec": {
   "display_name": "Python 3",
   "language": "python",
   "name": "python3"
  },
  "language_info": {
   "codemirror_mode": {
    "name": "ipython",
    "version": 3
   },
   "file_extension": ".py",
   "mimetype": "text/x-python",
   "name": "python",
   "nbconvert_exporter": "python",
   "pygments_lexer": "ipython3",
   "version": "3.12.5"
  }
 },
 "nbformat": 4,
 "nbformat_minor": 2
}
