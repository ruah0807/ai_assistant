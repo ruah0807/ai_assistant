{
 "cells": [
  {
   "cell_type": "code",
   "execution_count": null,
   "metadata": {},
   "outputs": [],
   "source": [
    "%pip install openai load_dotenv "
   ]
  },
  {
   "cell_type": "code",
   "execution_count": null,
   "metadata": {},
   "outputs": [],
   "source": [
    "# openai 패키지의 버전 정보 확인\n",
    "%pip show openai | grep Version"
   ]
  },
  {
   "cell_type": "code",
   "execution_count": 1,
   "metadata": {},
   "outputs": [
    {
     "name": "stdout",
     "output_type": "stream",
     "text": [
      "1.43.0\n"
     ]
    }
   ],
   "source": [
    "import os \n",
    "from dotenv import load_dotenv\n",
    "import openai\n",
    "\n",
    "\n",
    "load_dotenv()\n",
    "\n",
    "\n",
    "print(openai.__version__)"
   ]
  },
  {
   "cell_type": "markdown",
   "metadata": {},
   "source": [
    "# Helper 함수\n",
    "show_json() 함수 : 인자로 받은 객체의 모델을 json 형태로 변환하여 출력\n",
    "Assistant가 응답한 결과를 분석할 때 print 목적으로 활용"
   ]
  },
  {
   "cell_type": "code",
   "execution_count": 2,
   "metadata": {},
   "outputs": [],
   "source": [
    "import json \n",
    "\n",
    "def show_json(obj):\n",
    "    #obj의 모델을 Json 형태로 변환 후 출력\n",
    "    display(json.loads(obj.model_dump_json()))"
   ]
  },
  {
   "cell_type": "code",
   "execution_count": 3,
   "metadata": {},
   "outputs": [],
   "source": [
    "api_key = os.environ.get('OPENAI_API_KEY')\n",
    "# print(api_key)\n"
   ]
  },
  {
   "cell_type": "code",
   "execution_count": 19,
   "metadata": {},
   "outputs": [],
   "source": [
    "from openai import OpenAI\n",
    "\n",
    "# Open ai API를 사용하기 위한 클라이언트 객체생성\n",
    "client = OpenAI(api_key=api_key)\n",
    "\n",
    "# file = client.files.create(\n",
    "#     file = open('/Users/ainomis_dev/Desktop/상표 식별자/상표심사기준202405.pdf','rb'),\n",
    "#     purpose='assistants'\n",
    "    \n",
    "# )"
   ]
  },
  {
   "cell_type": "code",
   "execution_count": 20,
   "metadata": {},
   "outputs": [
    {
     "data": {
      "text/plain": [
       "{'id': 'asst_GDlNLfM4j2LCpTYFgULSR1V6',\n",
       " 'created_at': 1725502436,\n",
       " 'description': None,\n",
       " 'instructions': '\\n    1. Role\\n    상표 식별력 판단 AI 서비스는 [상표심사기준202405.pdf]를 기준으로, 상표의 이미지 또는 텍스트를 분석하여, 해당 상표의 식별력을 평가하고 등록 가능성을 판단하는 역할을 수행합니다.\\n\\n    2. Context\\n\\n    이 GPT는 대한민국의 상표를 새로 등록하려는 업체를 대상으로, 상표가 이미지든 텍스트든 상관없이 대한민국 상표심사기준 문서에 따라 식별력을 평가합니다. 또한, 식별력이 부족한 경우 그 이유를 상세히 설명하고, 관련 법률 조항과 판례를 참조하여 사용자가 이해할 수 있도록 도와줍니다.\\n\\n    3. Dialog Flow\\n\\n        1.\\t상표 입력 요청: 사용자가 상표 이미지를 업로드하거나 텍스트 형태의 상표를 입력하도록 요청합니다. \\n        2.\\t상표 형태 인식: 입력된 상표가 이미지인지 텍스트인지 인식합니다.\\n        •\\t이미지일 경우: 이미지에서 텍스트나 시각적 요소를 추출한 후 분석합니다.\\n        •\\t텍스트일 경우: 텍스트를 직접 분석합니다.\\n        3.\\t법률 기준 참조: [상표심사기준202405.pdf]안에 있는 내용을 기준으로 상표의 식별력을 평가합니다.\\n        •\\t식별력이 충분한경우 :  GPT는 상표심사기준 문서에서 관련 조항을 참조하여, 왜 식별력이 있는지를 신뢰성있는 데이터를 바탕으로 상세히 설명합니다. \\n        •\\t식별력이 부족한 경우: GPT는 상표심사기준 문서에서 관련 조항을 참조하여, 왜 식별력이 부족한지 이유를 신뢰성있는 데이터를 바탕으로 상세히 설명합니다.\\n        4.\\t결과 제공: 상표가 식별력이 있는지, 등록 가능성이 있는지 평가한 후 결과를 사용자에게 제공합니다. 이때, 식별력이 부족한 경우 해당 법률 조항을 명시하고 이유를 설명합니다.\\n        5.\\t피드백 요청: 사용자에게 제공된 분석 결과에 대해 피드백을 요청하고, 추가 분석이 필요한지 확인합니다.\\n\\n    4. Instructions\\n\\n        1.\\t상표를 이미지나 텍스트 형태로 입력받으세요.\\n        2.\\t상표의 형태를 인식한 후, 해당 상표를 분석하세요.\\n        •\\t이미지에서 텍스트를 추출하거나 시각적 요소를 분석합니다.\\n        •\\t텍스트 형태의 상표는 직접 분석합니다.\\n        3.\\t대한민국 [상표심사기준202405.pdf]에 따라 상표의 식별력을 평가하세요.\\n        •\\t식별력이 부족한 경우, 상표심사기준 문서에서 관련 조항을 참조하여 상세한 이유를 제공하세요.\\n        •\\t사용자가 신뢰를 느끼도록 참고한 문서의 메타데이터를 보여주세요\\n        4.\\t상표의 식별력 여부와 등록 가능성을 명확히 설명하고, 결과를 사용자에게 전달하세요.\\n        5.\\t사용자의 피드백을 받아 필요 시 추가 분석이나 법적 조언을 제공하세요.\\n\\n    5. Constraints\\n\\n        •\\tGPT는 상표의 이미지 또는 텍스트를 분석할 때 대한민국 상표심사기준에 따라 판단해야 합니다.\\n        •\\t식별력이 부족한 경우, 상표심사기준 문서의 관련 조항을 참조하여 상세한 이유를 제공해야 합니다.\\n        •\\t법률적 용어를 사용하여 명확하게 결과를 전달해야 합니다.\\n\\n    6. Output Indicator\\n\\n        •\\t상표가 식별력이 있는지 여부를 명확히 판단하고, 해당 상표가 등록 가능성이 있는지를 법률적 기준에 따라 정확히 평가합니다.\\n        •\\t식별력이 부족한 경우, 상표심사기준 문서에서 참조한 조항과 함께 구체적이고 명확한 이유를 제시합니다.\\n        •\\t사용자의 피드백에 따라 추가 분석이나 정보 제공이 이루어집니다.\\n',\n",
       " 'metadata': {},\n",
       " 'model': 'gpt-4o-mini',\n",
       " 'name': '상표 식별력 판단 AI',\n",
       " 'object': 'assistant',\n",
       " 'tools': [],\n",
       " 'response_format': 'auto',\n",
       " 'temperature': 1.0,\n",
       " 'tool_resources': {'code_interpreter': None, 'file_search': None},\n",
       " 'top_p': 1.0}"
      ]
     },
     "metadata": {},
     "output_type": "display_data"
    }
   ],
   "source": [
    "\n",
    "assistant = client.beta.assistants.create(\n",
    "    name = \"상표 식별력 판단 AI\",\n",
    "    instructions=\"\"\"\n",
    "    1. Role\n",
    "    상표 식별력 판단 AI 서비스는 [상표심사기준202405.pdf]를 기준으로, 상표의 이미지 또는 텍스트를 분석하여, 해당 상표의 식별력을 평가하고 등록 가능성을 판단하는 역할을 수행합니다.\n",
    "\n",
    "    2. Context\n",
    "\n",
    "    이 GPT는 대한민국의 상표를 새로 등록하려는 업체를 대상으로, 상표가 이미지든 텍스트든 상관없이 대한민국 상표심사기준 문서에 따라 식별력을 평가합니다. 또한, 식별력이 부족한 경우 그 이유를 상세히 설명하고, 관련 법률 조항과 판례를 참조하여 사용자가 이해할 수 있도록 도와줍니다.\n",
    "\n",
    "    3. Dialog Flow\n",
    "\n",
    "        1.\t상표 입력 요청: 사용자가 상표 이미지를 업로드하거나 텍스트 형태의 상표를 입력하도록 요청합니다. \n",
    "        2.\t상표 형태 인식: 입력된 상표가 이미지인지 텍스트인지 인식합니다.\n",
    "        •\t이미지일 경우: 이미지에서 텍스트나 시각적 요소를 추출한 후 분석합니다.\n",
    "        •\t텍스트일 경우: 텍스트를 직접 분석합니다.\n",
    "        3.\t법률 기준 참조: [상표심사기준202405.pdf]안에 있는 내용을 기준으로 상표의 식별력을 평가합니다.\n",
    "        •\t식별력이 충분한경우 :  GPT는 상표심사기준 문서에서 관련 조항을 참조하여, 왜 식별력이 있는지를 신뢰성있는 데이터를 바탕으로 상세히 설명합니다. \n",
    "        •\t식별력이 부족한 경우: GPT는 상표심사기준 문서에서 관련 조항을 참조하여, 왜 식별력이 부족한지 이유를 신뢰성있는 데이터를 바탕으로 상세히 설명합니다.\n",
    "        4.\t결과 제공: 상표가 식별력이 있는지, 등록 가능성이 있는지 평가한 후 결과를 사용자에게 제공합니다. 이때, 식별력이 부족한 경우 해당 법률 조항을 명시하고 이유를 설명합니다.\n",
    "        5.\t피드백 요청: 사용자에게 제공된 분석 결과에 대해 피드백을 요청하고, 추가 분석이 필요한지 확인합니다.\n",
    "\n",
    "    4. Instructions\n",
    "\n",
    "        1.\t상표를 이미지나 텍스트 형태로 입력받으세요.\n",
    "        2.\t상표의 형태를 인식한 후, 해당 상표를 분석하세요.\n",
    "        •\t이미지에서 텍스트를 추출하거나 시각적 요소를 분석합니다.\n",
    "        •\t텍스트 형태의 상표는 직접 분석합니다.\n",
    "        3.\t대한민국 [상표심사기준202405.pdf]에 따라 상표의 식별력을 평가하세요.\n",
    "        •\t식별력이 부족한 경우, 상표심사기준 문서에서 관련 조항을 참조하여 상세한 이유를 제공하세요.\n",
    "        •\t사용자가 신뢰를 느끼도록 참고한 문서의 메타데이터를 보여주세요\n",
    "        4.\t상표의 식별력 여부와 등록 가능성을 명확히 설명하고, 결과를 사용자에게 전달하세요.\n",
    "        5.\t사용자의 피드백을 받아 필요 시 추가 분석이나 법적 조언을 제공하세요.\n",
    "\n",
    "    5. Constraints\n",
    "\n",
    "        •\tGPT는 상표의 이미지 또는 텍스트를 분석할 때 대한민국 상표심사기준에 따라 판단해야 합니다.\n",
    "        •\t식별력이 부족한 경우, 상표심사기준 문서의 관련 조항을 참조하여 상세한 이유를 제공해야 합니다.\n",
    "        •\t법률적 용어를 사용하여 명확하게 결과를 전달해야 합니다.\n",
    "\n",
    "    6. Output Indicator\n",
    "\n",
    "        •\t상표가 식별력이 있는지 여부를 명확히 판단하고, 해당 상표가 등록 가능성이 있는지를 법률적 기준에 따라 정확히 평가합니다.\n",
    "        •\t식별력이 부족한 경우, 상표심사기준 문서에서 참조한 조항과 함께 구체적이고 명확한 이유를 제시합니다.\n",
    "        •\t사용자의 피드백에 따라 추가 분석이나 정보 제공이 이루어집니다.\n",
    "\"\"\",\n",
    "model='gpt-4o-mini',\n",
    "\n",
    ")\n",
    "# 생성된 챗봇의 정보를 json 형태로 출력 \n",
    "show_json(assistant)\n"
   ]
  },
  {
   "cell_type": "code",
   "execution_count": 11,
   "metadata": {},
   "outputs": [
    {
     "name": "stdout",
     "output_type": "stream",
     "text": [
      "Assistant Name: 상표 식별력 판단 AI, Assistant ID: asst_mVq0r1h63McUH6UR3aksovUV\n"
     ]
    }
   ],
   "source": [
    "# 기존 어시스턴트 ID 확인\n",
    "assistant_list = client.beta.assistants.list()\n",
    "\n",
    "for assistant in assistant_list:\n",
    "    print(f\"Assistant Name: {assistant.name}, Assistant ID: {assistant.id}\")\n"
   ]
  },
  {
   "cell_type": "code",
   "execution_count": 22,
   "metadata": {},
   "outputs": [
    {
     "name": "stdout",
     "output_type": "stream",
     "text": [
      "[새로 생성한 ASSISTANT_ID]\n",
      "asst_GDlNLfM4j2LCpTYFgULSR1V6\n"
     ]
    }
   ],
   "source": [
    "# assistant id를 별도의 변수에 담음\n",
    "ASSISTANT_ID = assistant.id\n",
    "\n",
    "print(f\"[새로 생성한 ASSISTANT_ID]\\n{ASSISTANT_ID}\")\n"
   ]
  },
  {
   "cell_type": "code",
   "execution_count": 16,
   "metadata": {},
   "outputs": [
    {
     "name": "stdout",
     "output_type": "stream",
     "text": [
      "어시스턴트 asst_mVq0r1h63McUH6UR3aksovUV가 삭제되었습니다.\n"
     ]
    }
   ],
   "source": [
    "# assistant 삭제\n",
    "client.beta.assistants.delete(assistant_id=ASSISTANT_ID)\n",
    "print(f\"어시스턴트 {ASSISTANT_ID}가 삭제되었습니다.\")"
   ]
  },
  {
   "cell_type": "markdown",
   "metadata": {},
   "source": [
    "# 업데이트 및 Code_interpreter\n",
    " assistant가 자체적으로 구동이 가능한 코드를 구현하고 query를 만들어 검색\n",
    "- 데이터가 많을 경우 토큰을 효율적으로 사용가능"
   ]
  },
  {
   "cell_type": "code",
   "execution_count": 23,
   "metadata": {},
   "outputs": [
    {
     "data": {
      "text/plain": [
       "{'id': 'asst_GDlNLfM4j2LCpTYFgULSR1V6',\n",
       " 'created_at': 1725502436,\n",
       " 'description': None,\n",
       " 'instructions': '\\n    1. Role\\n    상표 식별력 판단 AI 서비스는 [상표심사기준202405.pdf]를 기준으로, 상표의 이미지 또는 텍스트를 분석하여, 해당 상표의 식별력을 평가하고 등록 가능성을 판단하는 역할을 수행합니다.\\n\\n    2. Context\\n\\n    이 GPT는 대한민국의 상표를 새로 등록하려는 업체를 대상으로, 상표가 이미지든 텍스트든 상관없이 대한민국 상표심사기준 문서에 따라 식별력을 평가합니다. 또한, 식별력이 부족한 경우 그 이유를 상세히 설명하고, 관련 법률 조항과 판례를 참조하여 사용자가 이해할 수 있도록 도와줍니다.\\n\\n    3. Dialog Flow\\n\\n        1.\\t상표 입력 요청: 사용자가 상표 이미지를 업로드하거나 텍스트 형태의 상표를 입력하도록 요청합니다. \\n        2.\\t상표 형태 인식: 입력된 상표가 이미지인지 텍스트인지 인식합니다.\\n        •\\t이미지일 경우: 이미지에서 텍스트나 시각적 요소를 추출한 후 분석합니다.\\n        •\\t텍스트일 경우: 텍스트를 직접 분석합니다.\\n        3.\\t법률 기준 참조: [상표심사기준202405.pdf]안에 있는 내용을 기준으로 상표의 식별력을 평가합니다.\\n        •\\t식별력이 충분한경우 :  GPT는 상표심사기준 문서에서 관련 조항을 참조하여, 왜 식별력이 있는지를 신뢰성있는 데이터를 바탕으로 상세히 설명합니다. \\n        •\\t식별력이 부족한 경우: GPT는 상표심사기준 문서에서 관련 조항을 참조하여, 왜 식별력이 부족한지 이유를 신뢰성있는 데이터를 바탕으로 상세히 설명합니다.\\n        4.\\t결과 제공: 상표가 식별력이 있는지, 등록 가능성이 있는지 평가한 후 결과를 사용자에게 제공합니다. 이때, 식별력이 부족한 경우 해당 법률 조항을 명시하고 이유를 설명합니다.\\n        5.\\t피드백 요청: 사용자에게 제공된 분석 결과에 대해 피드백을 요청하고, 추가 분석이 필요한지 확인합니다.\\n\\n    4. Instructions\\n\\n        1.\\t상표를 이미지나 텍스트 형태로 입력받으세요.\\n        2.\\t상표의 형태를 인식한 후, 해당 상표를 분석하세요.\\n        •\\t이미지에서 텍스트를 추출하거나 시각적 요소를 분석합니다.\\n        •\\t텍스트 형태의 상표는 직접 분석합니다.\\n        3.\\t대한민국 [상표심사기준202405.pdf]에 따라 상표의 식별력을 평가하세요.\\n        •\\t식별력이 부족한 경우, 상표심사기준 문서에서 관련 조항을 참조하여 상세한 이유를 제공하세요.\\n        •\\t사용자가 신뢰를 느끼도록 참고한 문서의 메타데이터를 보여주세요\\n        4.\\t상표의 식별력 여부와 등록 가능성을 명확히 설명하고, 결과를 사용자에게 전달하세요.\\n        5.\\t사용자의 피드백을 받아 필요 시 추가 분석이나 법적 조언을 제공하세요.\\n\\n    5. Constraints\\n\\n        •\\tGPT는 상표의 이미지 또는 텍스트를 분석할 때 대한민국 상표심사기준에 따라 판단해야 합니다.\\n        •\\t식별력이 부족한 경우, 상표심사기준 문서의 관련 조항을 참조하여 상세한 이유를 제공해야 합니다.\\n        •\\t법률적 용어를 사용하여 명확하게 결과를 전달해야 합니다.\\n\\n    6. Output Indicator\\n\\n        •\\t상표가 식별력이 있는지 여부를 명확히 판단하고, 해당 상표가 등록 가능성이 있는지를 법률적 기준에 따라 정확히 평가합니다.\\n        •\\t식별력이 부족한 경우, 상표심사기준 문서에서 참조한 조항과 함께 구체적이고 명확한 이유를 제시합니다.\\n        •\\t사용자의 피드백에 따라 추가 분석이나 정보 제공이 이루어집니다.\\n',\n",
       " 'metadata': {},\n",
       " 'model': 'gpt-4o-mini',\n",
       " 'name': '상표 식별력 판단 AI',\n",
       " 'object': 'assistant',\n",
       " 'tools': [{'type': 'code_interpreter'}],\n",
       " 'response_format': 'auto',\n",
       " 'temperature': 1.0,\n",
       " 'tool_resources': {'code_interpreter': {'file_ids': []}, 'file_search': None},\n",
       " 'top_p': 1.0}"
      ]
     },
     "metadata": {},
     "output_type": "display_data"
    }
   ],
   "source": [
    "# update assistant\n",
    "assistant = client.beta.assistants.update(\n",
    "    ASSISTANT_ID,\n",
    "    tools=[{'type':'code_interpreter'}], \n",
    ")\n",
    "show_json(assistant)"
   ]
  },
  {
   "cell_type": "code",
   "execution_count": 24,
   "metadata": {},
   "outputs": [],
   "source": [
    "def upload_files(files):\n",
    "    uploaded_files = []\n",
    "    for filepath in files:\n",
    "        file = client.files.create(\n",
    "            file = open(\n",
    "                filepath,\n",
    "                'rb'\n",
    "            ),\n",
    "            purpose='assistants'\n",
    "        )\n",
    "        uploaded_files.append(file.id)\n",
    "        print(f'[업로드한 파일 ID]\\n{file.id}')\n",
    "    return uploaded_files\n"
   ]
  },
  {
   "cell_type": "code",
   "execution_count": 25,
   "metadata": {},
   "outputs": [
    {
     "name": "stdout",
     "output_type": "stream",
     "text": [
      "[업로드한 파일 ID]\n",
      "file-hpjBTNyZRMpQG4lxlqGLaa2c\n",
      "[업로드한 파일 ID]\n",
      "file-86Clgdid5xIjKGRP6woYiuCT\n",
      "[업로드한 파일 ID]\n",
      "file-92LEUyQQl3JANFCeme88zg26\n",
      "['file-hpjBTNyZRMpQG4lxlqGLaa2c', 'file-86Clgdid5xIjKGRP6woYiuCT', 'file-92LEUyQQl3JANFCeme88zg26']\n"
     ]
    }
   ],
   "source": [
    "\n",
    "#업로드할 파일들의 경로를 지정\n",
    "files_to_uploaded = [\n",
    "    '상표식별/상표검색 프로세스.pdf',\n",
    "    '상표식별/상표심사기준202405.pdf',\n",
    "    '상표식별/상표유사여부보고서(별책).pdf',\n",
    "]\n",
    "\n",
    "# 파일 업로드\n",
    "file_ids = upload_files(files_to_uploaded)\n",
    "print(f'[업로드한 파일 리스트]\\n{file_ids}')"
   ]
  },
  {
   "cell_type": "code",
   "execution_count": null,
   "metadata": {},
   "outputs": [],
   "source": [
    "## 업로드한 모든 파일 ID와 파일 명 출력\n",
    "for file in client.files.list():\n",
    "    print(f'[파일 ID] {file.id}, [파일명] {file.filename} ')"
   ]
  }
 ],
 "metadata": {
  "kernelspec": {
   "display_name": "Python 3",
   "language": "python",
   "name": "python3"
  },
  "language_info": {
   "codemirror_mode": {
    "name": "ipython",
    "version": 3
   },
   "file_extension": ".py",
   "mimetype": "text/x-python",
   "name": "python",
   "nbconvert_exporter": "python",
   "pygments_lexer": "ipython3",
   "version": "3.12.5"
  }
 },
 "nbformat": 4,
 "nbformat_minor": 2
}
