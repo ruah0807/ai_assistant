{
 "cells": [
  {
   "cell_type": "code",
   "execution_count": null,
   "metadata": {},
   "outputs": [],
   "source": [
    "%pip install openai load_dotenv "
   ]
  },
  {
   "cell_type": "code",
   "execution_count": null,
   "metadata": {},
   "outputs": [],
   "source": [
    "# openai 패키지의 버전 정보 확인\n",
    "%pip show openai | grep Version"
   ]
  },
  {
   "cell_type": "code",
   "execution_count": 1,
   "metadata": {},
   "outputs": [
    {
     "name": "stdout",
     "output_type": "stream",
     "text": [
      "1.43.0\n"
     ]
    }
   ],
   "source": [
    "import os \n",
    "from dotenv import load_dotenv\n",
    "import openai\n",
    "\n",
    "\n",
    "load_dotenv()\n",
    "\n",
    "\n",
    "print(openai.__version__)"
   ]
  },
  {
   "cell_type": "markdown",
   "metadata": {},
   "source": [
    "# Helper 함수\n",
    "show_json() 함수 : 인자로 받은 객체의 모델을 json 형태로 변환하여 출력\n",
    "Assistant가 응답한 결과를 분석할 때 print 목적으로 활용"
   ]
  },
  {
   "cell_type": "code",
   "execution_count": 2,
   "metadata": {},
   "outputs": [],
   "source": [
    "import json \n",
    "\n",
    "def show_json(obj):\n",
    "    #obj의 모델을 Json 형태로 변환 후 출력\n",
    "    display(json.loads(obj.model_dump_json()))"
   ]
  },
  {
   "cell_type": "code",
   "execution_count": 3,
   "metadata": {},
   "outputs": [],
   "source": [
    "api_key = os.environ.get('OPENAI_API_KEY')\n",
    "# print(api_key)\n"
   ]
  },
  {
   "cell_type": "code",
   "execution_count": 19,
   "metadata": {},
   "outputs": [],
   "source": [
    "from openai import OpenAI\n",
    "\n",
    "# Open ai API를 사용하기 위한 클라이언트 객체생성\n",
    "client = OpenAI(api_key=api_key)\n",
    "\n",
    "# file = client.files.create(\n",
    "#     file = open('/Users/ainomis_dev/Desktop/상표 식별자/상표심사기준202405.pdf','rb'),\n",
    "#     purpose='assistants'\n",
    "    \n",
    "# )"
   ]
  },
  {
   "cell_type": "code",
   "execution_count": 20,
   "metadata": {},
   "outputs": [
    {
     "data": {
      "text/plain": [
       "{'id': 'asst_GDlNLfM4j2LCpTYFgULSR1V6',\n",
       " 'created_at': 1725502436,\n",
       " 'description': None,\n",
       " 'instructions': '\\n    1. Role\\n    상표 식별력 판단 AI 서비스는 [상표심사기준202405.pdf]를 기준으로, 상표의 이미지 또는 텍스트를 분석하여, 해당 상표의 식별력을 평가하고 등록 가능성을 판단하는 역할을 수행합니다.\\n\\n    2. Context\\n\\n    이 GPT는 대한민국의 상표를 새로 등록하려는 업체를 대상으로, 상표가 이미지든 텍스트든 상관없이 대한민국 상표심사기준 문서에 따라 식별력을 평가합니다. 또한, 식별력이 부족한 경우 그 이유를 상세히 설명하고, 관련 법률 조항과 판례를 참조하여 사용자가 이해할 수 있도록 도와줍니다.\\n\\n    3. Dialog Flow\\n\\n        1.\\t상표 입력 요청: 사용자가 상표 이미지를 업로드하거나 텍스트 형태의 상표를 입력하도록 요청합니다. \\n        2.\\t상표 형태 인식: 입력된 상표가 이미지인지 텍스트인지 인식합니다.\\n        •\\t이미지일 경우: 이미지에서 텍스트나 시각적 요소를 추출한 후 분석합니다.\\n        •\\t텍스트일 경우: 텍스트를 직접 분석합니다.\\n        3.\\t법률 기준 참조: [상표심사기준202405.pdf]안에 있는 내용을 기준으로 상표의 식별력을 평가합니다.\\n        •\\t식별력이 충분한경우 :  GPT는 상표심사기준 문서에서 관련 조항을 참조하여, 왜 식별력이 있는지를 신뢰성있는 데이터를 바탕으로 상세히 설명합니다. \\n        •\\t식별력이 부족한 경우: GPT는 상표심사기준 문서에서 관련 조항을 참조하여, 왜 식별력이 부족한지 이유를 신뢰성있는 데이터를 바탕으로 상세히 설명합니다.\\n        4.\\t결과 제공: 상표가 식별력이 있는지, 등록 가능성이 있는지 평가한 후 결과를 사용자에게 제공합니다. 이때, 식별력이 부족한 경우 해당 법률 조항을 명시하고 이유를 설명합니다.\\n        5.\\t피드백 요청: 사용자에게 제공된 분석 결과에 대해 피드백을 요청하고, 추가 분석이 필요한지 확인합니다.\\n\\n    4. Instructions\\n\\n        1.\\t상표를 이미지나 텍스트 형태로 입력받으세요.\\n        2.\\t상표의 형태를 인식한 후, 해당 상표를 분석하세요.\\n        •\\t이미지에서 텍스트를 추출하거나 시각적 요소를 분석합니다.\\n        •\\t텍스트 형태의 상표는 직접 분석합니다.\\n        3.\\t대한민국 [상표심사기준202405.pdf]에 따라 상표의 식별력을 평가하세요.\\n        •\\t식별력이 부족한 경우, 상표심사기준 문서에서 관련 조항을 참조하여 상세한 이유를 제공하세요.\\n        •\\t사용자가 신뢰를 느끼도록 참고한 문서의 메타데이터를 보여주세요\\n        4.\\t상표의 식별력 여부와 등록 가능성을 명확히 설명하고, 결과를 사용자에게 전달하세요.\\n        5.\\t사용자의 피드백을 받아 필요 시 추가 분석이나 법적 조언을 제공하세요.\\n\\n    5. Constraints\\n\\n        •\\tGPT는 상표의 이미지 또는 텍스트를 분석할 때 대한민국 상표심사기준에 따라 판단해야 합니다.\\n        •\\t식별력이 부족한 경우, 상표심사기준 문서의 관련 조항을 참조하여 상세한 이유를 제공해야 합니다.\\n        •\\t법률적 용어를 사용하여 명확하게 결과를 전달해야 합니다.\\n\\n    6. Output Indicator\\n\\n        •\\t상표가 식별력이 있는지 여부를 명확히 판단하고, 해당 상표가 등록 가능성이 있는지를 법률적 기준에 따라 정확히 평가합니다.\\n        •\\t식별력이 부족한 경우, 상표심사기준 문서에서 참조한 조항과 함께 구체적이고 명확한 이유를 제시합니다.\\n        •\\t사용자의 피드백에 따라 추가 분석이나 정보 제공이 이루어집니다.\\n',\n",
       " 'metadata': {},\n",
       " 'model': 'gpt-4o-mini',\n",
       " 'name': '상표 식별력 판단 AI',\n",
       " 'object': 'assistant',\n",
       " 'tools': [],\n",
       " 'response_format': 'auto',\n",
       " 'temperature': 1.0,\n",
       " 'tool_resources': {'code_interpreter': None, 'file_search': None},\n",
       " 'top_p': 1.0}"
      ]
     },
     "metadata": {},
     "output_type": "display_data"
    }
   ],
   "source": [
    "\n",
    "assistant = client.beta.assistants.create(\n",
    "    name = \"상표 식별력 판단 AI\",\n",
    "    instructions=\"\"\"\n",
    "    1. Role\n",
    "    상표 식별력 판단 AI 서비스는 업로드한 파일들을 Retrieval 하고, 상표의 이미지 또는 텍스트를 분석하여, 해당 상표의 식별력을 평가하고 등록 가능성을 판단하는 역할을 수행합니다.\n",
    "\n",
    "    2. Context\n",
    "\n",
    "    이 GPT는 대한민국의 상표를 새로 등록하려는 업체를 대상으로, 상표가 이미지든 텍스트든 상관없이 대한민국 상표심사기준 문서에 따라 식별력을 평가합니다. 또한, 식별력이 부족한 경우 그 이유를 상세히 설명하고, 관련 법률 조항과 판례를 참조하여 사용자가 이해할 수 있도록 도와줍니다.\n",
    "\n",
    "    3. Dialog Flow\n",
    "\n",
    "        1.\t상표 입력 요청: 사용자가 상표 이미지를 업로드하거나 텍스트 형태의 상표를 입력하도록 요청합니다. \n",
    "        2.\t상표 형태 인식: 입력된 상표가 이미지인지 텍스트인지 인식합니다.\n",
    "        •\t이미지일 경우: 이미지에서 텍스트나 시각적 요소를 추출한 후 분석합니다.\n",
    "        •\t텍스트일 경우: 텍스트를 직접 분석합니다.\n",
    "        3.\t법률 기준 참조: [상표심사기준202405.pdf]안에 있는 내용을 기준으로 상표의 식별력을 평가합니다.\n",
    "        •\t식별력이 충분한경우 :  GPT는 상표심사기준 문서에서 관련 조항을 참조하여, 왜 식별력이 있는지를 신뢰성있는 데이터를 바탕으로 상세히 설명합니다. \n",
    "        •\t식별력이 부족한 경우: GPT는 상표심사기준 문서에서 관련 조항을 참조하여, 왜 식별력이 부족한지 이유를 신뢰성있는 데이터를 바탕으로 상세히 설명합니다.\n",
    "        4.\t결과 제공: 상표가 식별력이 있는지, 등록 가능성이 있는지 평가한 후 결과를 사용자에게 제공합니다. 이때, 식별력이 부족한 경우 해당 법률 조항을 명시하고 이유를 설명합니다.\n",
    "        5.\t피드백 요청: 사용자에게 제공된 분석 결과에 대해 피드백을 요청하고, 추가 분석이 필요한지 확인합니다.\n",
    "\n",
    "    4. Instructions\n",
    "\n",
    "        1.\t상표를 이미지나 텍스트 형태로 입력받으세요.\n",
    "        2.\t상표의 형태를 인식한 후, 해당 상표를 분석하세요.\n",
    "        •\t이미지에서 텍스트를 추출하거나 시각적 요소를 분석합니다.\n",
    "        •\t텍스트 형태의 상표는 직접 분석합니다.\n",
    "        3.\t대한민국 [상표심사기준202405.pdf]에 따라 상표의 식별력을 평가하세요.\n",
    "        •\t식별력이 부족한 경우, 상표심사기준 문서에서 관련 조항을 참조하여 상세한 이유를 제공하세요.\n",
    "        •\t사용자가 신뢰를 느끼도록 참고한 문서의 메타데이터를 보여주세요\n",
    "        4.\t상표의 식별력 여부와 등록 가능성을 명확히 설명하고, 결과를 사용자에게 전달하세요.\n",
    "        5.\t사용자의 피드백을 받아 필요 시 추가 분석이나 법적 조언을 제공하세요.\n",
    "\n",
    "    5. Constraints\n",
    "\n",
    "        •\tGPT는 상표의 이미지 또는 텍스트를 분석할 때 대한민국 상표심사기준에 따라 판단해야 합니다.\n",
    "        •\t식별력이 부족한 경우, 상표심사기준 문서의 관련 조항을 참조하여 상세한 이유를 제공해야 합니다.\n",
    "        •\t법률적 용어를 사용하여 명확하게 결과를 전달해야 합니다.\n",
    "\n",
    "    6. Output Indicator\n",
    "\n",
    "        •\t상표가 식별력이 있는지 여부를 명확히 판단하고, 해당 상표가 등록 가능성이 있는지를 법률적 기준에 따라 정확히 평가합니다.\n",
    "        •\t식별력이 부족한 경우, 상표심사기준 문서에서 참조한 조항과 함께 구체적이고 명확한 이유를 제시합니다.\n",
    "        •\t사용자의 피드백에 따라 추가 분석이나 정보 제공이 이루어집니다.\n",
    "\"\"\",\n",
    "model='gpt-4o-mini',\n",
    "\n",
    ")\n",
    "# 생성된 챗봇의 정보를 json 형태로 출력 \n",
    "show_json(assistant)\n"
   ]
  },
  {
   "cell_type": "code",
   "execution_count": 11,
   "metadata": {},
   "outputs": [
    {
     "name": "stdout",
     "output_type": "stream",
     "text": [
      "Assistant Name: 상표 식별력 판단 AI, Assistant ID: asst_mVq0r1h63McUH6UR3aksovUV\n"
     ]
    }
   ],
   "source": [
    "# 기존 어시스턴트 ID 확인\n",
    "assistant_list = client.beta.assistants.list()\n",
    "\n",
    "for assistant in assistant_list:\n",
    "    print(f\"Assistant Name: {assistant.name}, Assistant ID: {assistant.id}\")\n"
   ]
  },
  {
   "cell_type": "code",
   "execution_count": 22,
   "metadata": {},
   "outputs": [
    {
     "name": "stdout",
     "output_type": "stream",
     "text": [
      "[새로 생성한 ASSISTANT_ID]\n",
      "asst_GDlNLfM4j2LCpTYFgULSR1V6\n"
     ]
    }
   ],
   "source": [
    "# assistant id를 별도의 변수에 담음\n",
    "ASSISTANT_ID = assistant.id\n",
    "\n",
    "print(f\"[새로 생성한 ASSISTANT_ID]\\n{ASSISTANT_ID}\")\n"
   ]
  },
  {
   "cell_type": "code",
   "execution_count": 16,
   "metadata": {},
   "outputs": [
    {
     "name": "stdout",
     "output_type": "stream",
     "text": [
      "어시스턴트 asst_mVq0r1h63McUH6UR3aksovUV가 삭제되었습니다.\n"
     ]
    }
   ],
   "source": [
    "# assistant 삭제\n",
    "client.beta.assistants.delete(assistant_id=ASSISTANT_ID)\n",
    "print(f\"어시스턴트 {ASSISTANT_ID}가 삭제되었습니다.\")"
   ]
  },
  {
   "cell_type": "markdown",
   "metadata": {},
   "source": [
    "# 업데이트 및 Code_interpreter\n",
    " assistant가 자체적으로 구동이 가능한 코드를 구현하고 query를 만들어 검색\n",
    "- 데이터가 많을 경우 토큰을 효율적으로 사용가능"
   ]
  },
  {
   "cell_type": "code",
   "execution_count": 23,
   "metadata": {},
   "outputs": [
    {
     "data": {
      "text/plain": [
       "{'id': 'asst_GDlNLfM4j2LCpTYFgULSR1V6',\n",
       " 'created_at': 1725502436,\n",
       " 'description': None,\n",
       " 'instructions': '\\n    1. Role\\n    상표 식별력 판단 AI 서비스는 [상표심사기준202405.pdf]를 기준으로, 상표의 이미지 또는 텍스트를 분석하여, 해당 상표의 식별력을 평가하고 등록 가능성을 판단하는 역할을 수행합니다.\\n\\n    2. Context\\n\\n    이 GPT는 대한민국의 상표를 새로 등록하려는 업체를 대상으로, 상표가 이미지든 텍스트든 상관없이 대한민국 상표심사기준 문서에 따라 식별력을 평가합니다. 또한, 식별력이 부족한 경우 그 이유를 상세히 설명하고, 관련 법률 조항과 판례를 참조하여 사용자가 이해할 수 있도록 도와줍니다.\\n\\n    3. Dialog Flow\\n\\n        1.\\t상표 입력 요청: 사용자가 상표 이미지를 업로드하거나 텍스트 형태의 상표를 입력하도록 요청합니다. \\n        2.\\t상표 형태 인식: 입력된 상표가 이미지인지 텍스트인지 인식합니다.\\n        •\\t이미지일 경우: 이미지에서 텍스트나 시각적 요소를 추출한 후 분석합니다.\\n        •\\t텍스트일 경우: 텍스트를 직접 분석합니다.\\n        3.\\t법률 기준 참조: [상표심사기준202405.pdf]안에 있는 내용을 기준으로 상표의 식별력을 평가합니다.\\n        •\\t식별력이 충분한경우 :  GPT는 상표심사기준 문서에서 관련 조항을 참조하여, 왜 식별력이 있는지를 신뢰성있는 데이터를 바탕으로 상세히 설명합니다. \\n        •\\t식별력이 부족한 경우: GPT는 상표심사기준 문서에서 관련 조항을 참조하여, 왜 식별력이 부족한지 이유를 신뢰성있는 데이터를 바탕으로 상세히 설명합니다.\\n        4.\\t결과 제공: 상표가 식별력이 있는지, 등록 가능성이 있는지 평가한 후 결과를 사용자에게 제공합니다. 이때, 식별력이 부족한 경우 해당 법률 조항을 명시하고 이유를 설명합니다.\\n        5.\\t피드백 요청: 사용자에게 제공된 분석 결과에 대해 피드백을 요청하고, 추가 분석이 필요한지 확인합니다.\\n\\n    4. Instructions\\n\\n        1.\\t상표를 이미지나 텍스트 형태로 입력받으세요.\\n        2.\\t상표의 형태를 인식한 후, 해당 상표를 분석하세요.\\n        •\\t이미지에서 텍스트를 추출하거나 시각적 요소를 분석합니다.\\n        •\\t텍스트 형태의 상표는 직접 분석합니다.\\n        3.\\t대한민국 [상표심사기준202405.pdf]에 따라 상표의 식별력을 평가하세요.\\n        •\\t식별력이 부족한 경우, 상표심사기준 문서에서 관련 조항을 참조하여 상세한 이유를 제공하세요.\\n        •\\t사용자가 신뢰를 느끼도록 참고한 문서의 메타데이터를 보여주세요\\n        4.\\t상표의 식별력 여부와 등록 가능성을 명확히 설명하고, 결과를 사용자에게 전달하세요.\\n        5.\\t사용자의 피드백을 받아 필요 시 추가 분석이나 법적 조언을 제공하세요.\\n\\n    5. Constraints\\n\\n        •\\tGPT는 상표의 이미지 또는 텍스트를 분석할 때 대한민국 상표심사기준에 따라 판단해야 합니다.\\n        •\\t식별력이 부족한 경우, 상표심사기준 문서의 관련 조항을 참조하여 상세한 이유를 제공해야 합니다.\\n        •\\t법률적 용어를 사용하여 명확하게 결과를 전달해야 합니다.\\n\\n    6. Output Indicator\\n\\n        •\\t상표가 식별력이 있는지 여부를 명확히 판단하고, 해당 상표가 등록 가능성이 있는지를 법률적 기준에 따라 정확히 평가합니다.\\n        •\\t식별력이 부족한 경우, 상표심사기준 문서에서 참조한 조항과 함께 구체적이고 명확한 이유를 제시합니다.\\n        •\\t사용자의 피드백에 따라 추가 분석이나 정보 제공이 이루어집니다.\\n',\n",
       " 'metadata': {},\n",
       " 'model': 'gpt-4o-mini',\n",
       " 'name': '상표 식별력 판단 AI',\n",
       " 'object': 'assistant',\n",
       " 'tools': [{'type': 'code_interpreter'}],\n",
       " 'response_format': 'auto',\n",
       " 'temperature': 1.0,\n",
       " 'tool_resources': {'code_interpreter': {'file_ids': []}, 'file_search': None},\n",
       " 'top_p': 1.0}"
      ]
     },
     "metadata": {},
     "output_type": "display_data"
    }
   ],
   "source": [
    "# update assistant\n",
    "assistant = client.beta.assistants.update(\n",
    "    ASSISTANT_ID,\n",
    "    tools=[{'type':'code_interpreter'}], \n",
    ")\n",
    "show_json(assistant)"
   ]
  },
  {
   "cell_type": "code",
   "execution_count": 24,
   "metadata": {},
   "outputs": [],
   "source": [
    "def upload_files(files):\n",
    "    uploaded_files = []\n",
    "    for filepath in files:\n",
    "        file = client.beta.create(\n",
    "            file = open(\n",
    "                filepath,\n",
    "                'rb'\n",
    "            ),\n",
    "            purpose='assistants'\n",
    "        )\n",
    "        uploaded_files.append(file.id)\n",
    "        print(f'[업로드한 파일 ID]\\n{file.id}')\n",
    "    return uploaded_files\n"
   ]
  },
  {
   "cell_type": "code",
   "execution_count": 47,
   "metadata": {},
   "outputs": [],
   "source": [
    "\n",
    "#업로드할 파일들의 경로를 지정\n",
    "files_to_uploaded = [\n",
    "    '상표식별/상표검색 프로세스.pdf',\n",
    "    '상표식별/상표심사기준202405.pdf',\n",
    "    '상표식별/상표유사여부보고서(별책).pdf',\n",
    "]\n",
    "\n",
    "file_streams = [open(path, 'rb') for path in files_to_uploaded]\n",
    "\n",
    "# 파일 업로드\n",
    "# file_ids = upload_files(files_to_uploaded)\n",
    "# print(f'[업로드한 파일 리스트]\\n{file_ids}')\n",
    "\n"
   ]
  },
  {
   "cell_type": "code",
   "execution_count": 26,
   "metadata": {},
   "outputs": [
    {
     "name": "stdout",
     "output_type": "stream",
     "text": [
      "[파일 ID] file-92LEUyQQl3JANFCeme88zg26, [파일명] 상표유사여부보고서(별책).pdf \n",
      "[파일 ID] file-86Clgdid5xIjKGRP6woYiuCT, [파일명] 상표심사기준202405.pdf \n",
      "[파일 ID] file-hpjBTNyZRMpQG4lxlqGLaa2c, [파일명] 상표검색 프로세스.pdf \n",
      "[파일 ID] file-HLvqqzo8tbEhAvF04olrbkyd, [파일명] 상표심사기준202405.pdf \n",
      "[파일 ID] file-Egr1udFiMr7od8gyKqvzZ7cg, [파일명] step_metrics.csv \n",
      "[파일 ID] file-yWxyD77DLvXAki3qebW1H7Vy, [파일명] test2.jsonl \n",
      "[파일 ID] file-VRH4cOFuzVCZx2vbEv8K57b4, [파일명] step_metrics.csv \n",
      "[파일 ID] file-xIobt8Bpy9hugpmA4fv4YrJD, [파일명] hunnid.jsonl \n",
      "[파일 ID] file-mz3Gw0q5sZxr0dghXfdsd8tR, [파일명] step_metrics.csv \n",
      "[파일 ID] file-y9PUyPWyuSn05MYpuwkrPux7, [파일명] Tuto.jsonl \n",
      "[파일 ID] file-S9Vv9Xxdw3V8CNpFT6VxxmEZ, [파일명] Tuto.jsonl \n",
      "[파일 ID] file-x0cibpm9mIuyccVNwrMQ0hHz, [파일명] Tuto.jsonl \n",
      "[파일 ID] file-r0gahJ0kn7eiCcF7SLtY74ez, [파일명] step_metrics.csv \n",
      "[파일 ID] file-2jnzu0zcZSWZN4gTvlCHe0ls, [파일명] step_metrics.csv \n",
      "[파일 ID] file-eQdxetYEJzwCHg77v3BKMfo7, [파일명] file \n",
      "[파일 ID] file-o4tTNY30X4bcI5pkqpykXc7T, [파일명] file \n",
      "[파일 ID] file-HDTa1stXHI6SJxNAVXBRZe6y, [파일명] file \n",
      "[파일 ID] file-jtsarpedAB3vgqZOKwxwHqKM, [파일명] file \n",
      "[파일 ID] file-eh2qXjMRD98HMPtmvHMiFisa, [파일명] step_metrics.csv \n",
      "[파일 ID] file-aoJXM3i6dylAY1ZmR5OyGPWC, [파일명] file \n",
      "[파일 ID] file-njLLine5TMF73vQsso7FVu1W, [파일명] step_metrics.csv \n",
      "[파일 ID] file-fqF4bNeaqq6AQSrdtJ000bQH, [파일명] file \n",
      "[파일 ID] file-NL2VC22vg51usKwrikBPBMAN, [파일명] file \n",
      "[파일 ID] file-b7q1WRmwm5Wovv3D06l3LhIs, [파일명] file \n",
      "[파일 ID] file-ewqiVSTMEzJSP4eP4hBAfiDC, [파일명] file \n",
      "[파일 ID] file-r6TIusewWIyUcqYyp3vPHOV8, [파일명] step_metrics.csv \n",
      "[파일 ID] file-t7tA2G2DWLWYwW0lFG8f2ZA3, [파일명] file \n",
      "[파일 ID] file-LGu1shF9LJUdDlQOvmARtmXG, [파일명] file \n",
      "[파일 ID] file-rg78Hb37BKqpc0H32GynzYFb, [파일명] file \n",
      "[파일 ID] file-TUOYP8diMHhb60GbN0OgoxJu, [파일명] example.jsonl \n",
      "[파일 ID] file-GmS7NslybBlXGYcXgvoXzEbX, [파일명] file \n",
      "[파일 ID] file-XcMKaoh2qaPyjJqWh3Lb8vIN, [파일명] gpt3.5finetest_prepared.jsonl \n",
      "[파일 ID] file-YgVanXyEjq5TlGZSCjpEzhNH, [파일명] compiled_results.csv \n",
      "[파일 ID] file-fPAZFB4Y1k7DKiwmXzavxjpF, [파일명] /home/ethan/.config/JetBrains/PyCharmCE2022.3/scratches/gpt3.5finetest_prepared.jsonl \n",
      "[파일 ID] file-DYgxcTKDzVGs2YeEAzwDmyeD, [파일명] compiled_results.csv \n",
      "[파일 ID] file-Re7YiZ1PfpJznlfNdfZKgE2r, [파일명] /home/ethan/.config/JetBrains/PyCharmCE2022.3/scratches/gpt3.5finetest_prepared.jsonl \n",
      "[파일 ID] file-FAE9marCFvNsxayUxMkUvePH, [파일명] compiled_results.csv \n",
      "[파일 ID] file-IR9OBStMSLLHXS2TcPwpLPWY, [파일명] /home/ethan/.config/JetBrains/PyCharmCE2022.3/scratches/gpt3.5finetest_prepared.jsonl \n",
      "[파일 ID] file-6o5aiusg5FI5bFdjRrpFlOpv, [파일명] compiled_results.csv \n",
      "[파일 ID] file-M4SLdqhtUY2gyIO9OmK4yoFl, [파일명] compiled_results.csv \n",
      "[파일 ID] file-CnSWl3YgTXbFKUWHO6uVInzP, [파일명] /home/ethan/.config/JetBrains/PyCharmCE2022.3/scratches/gpt3.5finetest_prepared.jsonl \n",
      "[파일 ID] file-2eCzkKXue1BDBw6jNd10BBqI, [파일명] file \n"
     ]
    }
   ],
   "source": [
    "## 업로드한 모든 파일 ID와 파일 명 출력\n",
    "for file in client.files.list():\n",
    "    print(f'[파일 ID] {file.id}, [파일명] {file.filename} ')"
   ]
  },
  {
   "cell_type": "code",
   "execution_count": 34,
   "metadata": {},
   "outputs": [
    {
     "data": {
      "text/plain": [
       "['file-92LEUyQQl3JANFCeme88zg26',\n",
       " 'file-86Clgdid5xIjKGRP6woYiuCT',\n",
       " 'file-hpjBTNyZRMpQG4lxlqGLaa2c',\n",
       " 'file-HLvqqzo8tbEhAvF04olrbkyd']"
      ]
     },
     "execution_count": 34,
     "metadata": {},
     "output_type": "execute_result"
    }
   ],
   "source": [
    "# pdf 파일 retriever 활용하기\n",
    "file_ids = ['file-92LEUyQQl3JANFCeme88zg26','file-86Clgdid5xIjKGRP6woYiuCT','file-hpjBTNyZRMpQG4lxlqGLaa2c']\n"
   ]
  },
  {
   "cell_type": "markdown",
   "metadata": {},
   "source": [
    "### 파일 백터화"
   ]
  },
  {
   "cell_type": "code",
   "execution_count": 36,
   "metadata": {},
   "outputs": [],
   "source": [
    "vector_store = client.beta.vector_stores.create(\n",
    "    name = '상표 식별 documents',\n",
    ")"
   ]
  },
  {
   "cell_type": "code",
   "execution_count": 46,
   "metadata": {},
   "outputs": [
    {
     "data": {
      "text/plain": [
       "{'id': 'vs_8HRlMlOmpLEGKXIJAPZBGn2w',\n",
       " 'created_at': 1725507210,\n",
       " 'file_counts': {'cancelled': 0,\n",
       "  'completed': 0,\n",
       "  'failed': 0,\n",
       "  'in_progress': 4,\n",
       "  'total': 4},\n",
       " 'last_active_at': 1725507210,\n",
       " 'metadata': {},\n",
       " 'name': '상표 식별 documents',\n",
       " 'object': 'vector_store',\n",
       " 'status': 'in_progress',\n",
       " 'usage_bytes': 0,\n",
       " 'expires_after': None,\n",
       " 'expires_at': None}"
      ]
     },
     "metadata": {},
     "output_type": "display_data"
    }
   ],
   "source": [
    "show_json(vector_store)"
   ]
  },
  {
   "cell_type": "markdown",
   "metadata": {},
   "source": [
    "### 2. 파일을 업로드 하고 vector store에 추가"
   ]
  },
  {
   "cell_type": "code",
   "execution_count": 48,
   "metadata": {},
   "outputs": [],
   "source": [
    "# 파일 업로드 및 백터 스토어에 추가\n",
    "file_batch = client.beta.vector_stores.file_batches.upload_and_poll(\n",
    "    vector_store_id=vector_store.id, files = file_streams\n",
    ")"
   ]
  },
  {
   "cell_type": "code",
   "execution_count": 57,
   "metadata": {},
   "outputs": [
    {
     "data": {
      "text/plain": [
       "{'id': 'vsfb_cd21f581ff93410abf3cbdfa91269264',\n",
       " 'created_at': 1725511719,\n",
       " 'file_counts': {'cancelled': 0,\n",
       "  'completed': 3,\n",
       "  'failed': 0,\n",
       "  'in_progress': 0,\n",
       "  'total': 3},\n",
       " 'object': 'vector_store.file_batch',\n",
       " 'status': 'completed',\n",
       " 'vector_store_id': 'vs_8HRlMlOmpLEGKXIJAPZBGn2w'}"
      ]
     },
     "metadata": {},
     "output_type": "display_data"
    },
    {
     "name": "stdout",
     "output_type": "stream",
     "text": [
      "completed\n",
      "FileCounts(cancelled=0, completed=3, failed=0, in_progress=0, total=3)\n"
     ]
    }
   ],
   "source": [
    "show_json(file_batch)\n",
    "print(file_batch.status)\n",
    "print(file_batch.file_counts)"
   ]
  },
  {
   "cell_type": "code",
   "execution_count": 31,
   "metadata": {},
   "outputs": [],
   "source": [
    "#assistant 설정 업데이트\n",
    "assistant = client.beta.assistants.update(\n",
    "    ASSISTANT_ID,\n",
    "    tools=[\n",
    "        {'type': 'code_interpreter'},\n",
    "        {'type': \"file_search\"}\n",
    "    ]\n",
    ")"
   ]
  },
  {
   "cell_type": "markdown",
   "metadata": {},
   "source": [
    "### 3. 새 백터 스토어를 사용하도록 어시스턴트 업데이트"
   ]
  },
  {
   "cell_type": "code",
   "execution_count": 52,
   "metadata": {},
   "outputs": [
    {
     "data": {
      "text/plain": [
       "{'id': 'asst_GDlNLfM4j2LCpTYFgULSR1V6',\n",
       " 'created_at': 1725502436,\n",
       " 'description': None,\n",
       " 'instructions': '\\n    1. Role\\n    상표 식별력 판단 AI 서비스는 [상표심사기준202405.pdf]를 기준으로, 상표의 이미지 또는 텍스트를 분석하여, 해당 상표의 식별력을 평가하고 등록 가능성을 판단하는 역할을 수행합니다.\\n\\n    2. Context\\n\\n    이 GPT는 대한민국의 상표를 새로 등록하려는 업체를 대상으로, 상표가 이미지든 텍스트든 상관없이 대한민국 상표심사기준 문서에 따라 식별력을 평가합니다. 또한, 식별력이 부족한 경우 그 이유를 상세히 설명하고, 관련 법률 조항과 판례를 참조하여 사용자가 이해할 수 있도록 도와줍니다.\\n\\n    3. Dialog Flow\\n\\n        1.\\t상표 입력 요청: 사용자가 상표 이미지를 업로드하거나 텍스트 형태의 상표를 입력하도록 요청합니다. \\n        2.\\t상표 형태 인식: 입력된 상표가 이미지인지 텍스트인지 인식합니다.\\n        •\\t이미지일 경우: 이미지에서 텍스트나 시각적 요소를 추출한 후 분석합니다.\\n        •\\t텍스트일 경우: 텍스트를 직접 분석합니다.\\n        3.\\t법률 기준 참조: [상표심사기준202405.pdf]안에 있는 내용을 기준으로 상표의 식별력을 평가합니다.\\n        •\\t식별력이 충분한경우 :  GPT는 상표심사기준 문서에서 관련 조항을 참조하여, 왜 식별력이 있는지를 신뢰성있는 데이터를 바탕으로 상세히 설명합니다. \\n        •\\t식별력이 부족한 경우: GPT는 상표심사기준 문서에서 관련 조항을 참조하여, 왜 식별력이 부족한지 이유를 신뢰성있는 데이터를 바탕으로 상세히 설명합니다.\\n        4.\\t결과 제공: 상표가 식별력이 있는지, 등록 가능성이 있는지 평가한 후 결과를 사용자에게 제공합니다. 이때, 식별력이 부족한 경우 해당 법률 조항을 명시하고 이유를 설명합니다.\\n        5.\\t피드백 요청: 사용자에게 제공된 분석 결과에 대해 피드백을 요청하고, 추가 분석이 필요한지 확인합니다.\\n\\n    4. Instructions\\n\\n        1.\\t상표를 이미지나 텍스트 형태로 입력받으세요.\\n        2.\\t상표의 형태를 인식한 후, 해당 상표를 분석하세요.\\n        •\\t이미지에서 텍스트를 추출하거나 시각적 요소를 분석합니다.\\n        •\\t텍스트 형태의 상표는 직접 분석합니다.\\n        3.\\t대한민국 [상표심사기준202405.pdf]에 따라 상표의 식별력을 평가하세요.\\n        •\\t식별력이 부족한 경우, 상표심사기준 문서에서 관련 조항을 참조하여 상세한 이유를 제공하세요.\\n        •\\t사용자가 신뢰를 느끼도록 참고한 문서의 메타데이터를 보여주세요\\n        4.\\t상표의 식별력 여부와 등록 가능성을 명확히 설명하고, 결과를 사용자에게 전달하세요.\\n        5.\\t사용자의 피드백을 받아 필요 시 추가 분석이나 법적 조언을 제공하세요.\\n\\n    5. Constraints\\n\\n        •\\tGPT는 상표의 이미지 또는 텍스트를 분석할 때 대한민국 상표심사기준에 따라 판단해야 합니다.\\n        •\\t식별력이 부족한 경우, 상표심사기준 문서의 관련 조항을 참조하여 상세한 이유를 제공해야 합니다.\\n        •\\t법률적 용어를 사용하여 명확하게 결과를 전달해야 합니다.\\n\\n    6. Output Indicator\\n\\n        •\\t상표가 식별력이 있는지 여부를 명확히 판단하고, 해당 상표가 등록 가능성이 있는지를 법률적 기준에 따라 정확히 평가합니다.\\n        •\\t식별력이 부족한 경우, 상표심사기준 문서에서 참조한 조항과 함께 구체적이고 명확한 이유를 제시합니다.\\n        •\\t사용자의 피드백에 따라 추가 분석이나 정보 제공이 이루어집니다.\\n',\n",
       " 'metadata': {},\n",
       " 'model': 'gpt-4o-mini',\n",
       " 'name': '상표 식별력 판단 AI',\n",
       " 'object': 'assistant',\n",
       " 'tools': [{'type': 'code_interpreter'},\n",
       "  {'type': 'file_search',\n",
       "   'file_search': {'max_num_results': None,\n",
       "    'ranking_options': {'ranker': 'default_2024_08_21',\n",
       "     'score_threshold': 0.0}}}],\n",
       " 'response_format': 'auto',\n",
       " 'temperature': 0.0,\n",
       " 'tool_resources': {'code_interpreter': {'file_ids': []},\n",
       "  'file_search': {'vector_store_ids': ['vs_8HRlMlOmpLEGKXIJAPZBGn2w']}},\n",
       " 'top_p': 1.0}"
      ]
     },
     "metadata": {},
     "output_type": "display_data"
    }
   ],
   "source": [
    "# 업로드된 파일 참조 및 검색 요청\n",
    "assistant = client.beta.assistants.update(\n",
    "    assistant_id=ASSISTANT_ID,\n",
    "    tool_resources={'file_search': {'vector_store_ids': [vector_store.id]}},\n",
    "    temperature=0\n",
    ")\n",
    "show_json(assistant)"
   ]
  },
  {
   "cell_type": "markdown",
   "metadata": {},
   "source": [
    "### 4. 스레드 만들기\n",
    "스레드에 메시지 첨부파일로 파일을 첨부 가능\n",
    "vector_store 스레드와 연관된 다른 파일이 생성되거나, 스레드에 이미 벡터 스토어가 첨부 되어있는 경우 새 파일을 기존 스레드 벡터 스토어에 첨부\n",
    "\n",
    "\n",
    "\t1.\t파일 업로드: message_file 객체는 업로드된 이미지의 파일 ID를 가지고 있으며, 이 파일 ID를 스레드에서 사용하여 이미지 파일을 참조합니다.\n",
    "\t2.\t스레드 생성: thread 객체는 대화의 흐름을 관리하는 스레드이며, 여기에 사용자가 보낸 메시지(텍스트와 이미지)가 포함됩니다.\n",
    "\t3.\t어시스턴트 실행: client.beta.threads.runs.create()를 사용하여 스레드 내에서 어시스턴트를 실행시킵니다. 이때 어시스턴트의 ID가 필요하며, 해당 어시스턴트가 이미지를 분석할 수 있는지 확인해야 합니다.\n",
    "\t4.\t결과 확인: client.beta.threads.messages.list()로 스레드의 대화 내용을 확인하여 어시스턴트가 이미지에 대해 어떤 응답을 했는지 확인할 수 있습니다.\n"
   ]
  },
  {
   "cell_type": "code",
   "execution_count": 70,
   "metadata": {},
   "outputs": [
    {
     "data": {
      "text/plain": [
       "{'id': 'thread_NVFNErzBZ2l8C85U02llsNrN',\n",
       " 'created_at': 1725520285,\n",
       " 'metadata': {},\n",
       " 'object': 'thread',\n",
       " 'tool_resources': {'code_interpreter': None, 'file_search': None}}"
      ]
     },
     "metadata": {},
     "output_type": "display_data"
    }
   ],
   "source": [
    "thread = client.beta.threads.create()\n",
    "\n",
    "show_json(thread)\n"
   ]
  },
  {
   "cell_type": "code",
   "execution_count": 72,
   "metadata": {},
   "outputs": [
    {
     "data": {
      "text/plain": [
       "{'id': 'msg_wqCMfxMiL4XJXenXG8yES4Df',\n",
       " 'assistant_id': None,\n",
       " 'attachments': [],\n",
       " 'completed_at': None,\n",
       " 'content': [{'text': {'annotations': [], 'value': '식별력이 뭐야?'},\n",
       "   'type': 'text'}],\n",
       " 'created_at': 1725520443,\n",
       " 'incomplete_at': None,\n",
       " 'incomplete_details': None,\n",
       " 'metadata': {},\n",
       " 'object': 'thread.message',\n",
       " 'role': 'user',\n",
       " 'run_id': None,\n",
       " 'status': None,\n",
       " 'thread_id': 'thread_NVFNErzBZ2l8C85U02llsNrN'}"
      ]
     },
     "metadata": {},
     "output_type": "display_data"
    }
   ],
   "source": [
    "message = client.beta.threads.messages.create(\n",
    "    thread_id= thread.id,\n",
    "    role='user',\n",
    "    content='식별력이 뭐야?'\n",
    ")\n",
    "show_json(message)"
   ]
  },
  {
   "cell_type": "code",
   "execution_count": 73,
   "metadata": {},
   "outputs": [
    {
     "data": {
      "text/plain": [
       "{'id': 'run_FUiy2vYSOuMNgcQaVMFCpNuE',\n",
       " 'assistant_id': 'asst_GDlNLfM4j2LCpTYFgULSR1V6',\n",
       " 'cancelled_at': None,\n",
       " 'completed_at': None,\n",
       " 'created_at': 1725520648,\n",
       " 'expires_at': 1725521248,\n",
       " 'failed_at': None,\n",
       " 'incomplete_details': None,\n",
       " 'instructions': '\\n    1. Role\\n    상표 식별력 판단 AI 서비스는 [상표심사기준202405.pdf]를 기준으로, 상표의 이미지 또는 텍스트를 분석하여, 해당 상표의 식별력을 평가하고 등록 가능성을 판단하는 역할을 수행합니다.\\n\\n    2. Context\\n\\n    이 GPT는 대한민국의 상표를 새로 등록하려는 업체를 대상으로, 상표가 이미지든 텍스트든 상관없이 대한민국 상표심사기준 문서에 따라 식별력을 평가합니다. 또한, 식별력이 부족한 경우 그 이유를 상세히 설명하고, 관련 법률 조항과 판례를 참조하여 사용자가 이해할 수 있도록 도와줍니다.\\n\\n    3. Dialog Flow\\n\\n        1.\\t상표 입력 요청: 사용자가 상표 이미지를 업로드하거나 텍스트 형태의 상표를 입력하도록 요청합니다. \\n        2.\\t상표 형태 인식: 입력된 상표가 이미지인지 텍스트인지 인식합니다.\\n        •\\t이미지일 경우: 이미지에서 텍스트나 시각적 요소를 추출한 후 분석합니다.\\n        •\\t텍스트일 경우: 텍스트를 직접 분석합니다.\\n        3.\\t법률 기준 참조: [상표심사기준202405.pdf]안에 있는 내용을 기준으로 상표의 식별력을 평가합니다.\\n        •\\t식별력이 충분한경우 :  GPT는 상표심사기준 문서에서 관련 조항을 참조하여, 왜 식별력이 있는지를 신뢰성있는 데이터를 바탕으로 상세히 설명합니다. \\n        •\\t식별력이 부족한 경우: GPT는 상표심사기준 문서에서 관련 조항을 참조하여, 왜 식별력이 부족한지 이유를 신뢰성있는 데이터를 바탕으로 상세히 설명합니다.\\n        4.\\t결과 제공: 상표가 식별력이 있는지, 등록 가능성이 있는지 평가한 후 결과를 사용자에게 제공합니다. 이때, 식별력이 부족한 경우 해당 법률 조항을 명시하고 이유를 설명합니다.\\n        5.\\t피드백 요청: 사용자에게 제공된 분석 결과에 대해 피드백을 요청하고, 추가 분석이 필요한지 확인합니다.\\n\\n    4. Instructions\\n\\n        1.\\t상표를 이미지나 텍스트 형태로 입력받으세요.\\n        2.\\t상표의 형태를 인식한 후, 해당 상표를 분석하세요.\\n        •\\t이미지에서 텍스트를 추출하거나 시각적 요소를 분석합니다.\\n        •\\t텍스트 형태의 상표는 직접 분석합니다.\\n        3.\\t대한민국 [상표심사기준202405.pdf]에 따라 상표의 식별력을 평가하세요.\\n        •\\t식별력이 부족한 경우, 상표심사기준 문서에서 관련 조항을 참조하여 상세한 이유를 제공하세요.\\n        •\\t사용자가 신뢰를 느끼도록 참고한 문서의 메타데이터를 보여주세요\\n        4.\\t상표의 식별력 여부와 등록 가능성을 명확히 설명하고, 결과를 사용자에게 전달하세요.\\n        5.\\t사용자의 피드백을 받아 필요 시 추가 분석이나 법적 조언을 제공하세요.\\n\\n    5. Constraints\\n\\n        •\\tGPT는 상표의 이미지 또는 텍스트를 분석할 때 대한민국 상표심사기준에 따라 판단해야 합니다.\\n        •\\t식별력이 부족한 경우, 상표심사기준 문서의 관련 조항을 참조하여 상세한 이유를 제공해야 합니다.\\n        •\\t법률적 용어를 사용하여 명확하게 결과를 전달해야 합니다.\\n\\n    6. Output Indicator\\n\\n        •\\t상표가 식별력이 있는지 여부를 명확히 판단하고, 해당 상표가 등록 가능성이 있는지를 법률적 기준에 따라 정확히 평가합니다.\\n        •\\t식별력이 부족한 경우, 상표심사기준 문서에서 참조한 조항과 함께 구체적이고 명확한 이유를 제시합니다.\\n        •\\t사용자의 피드백에 따라 추가 분석이나 정보 제공이 이루어집니다.\\n',\n",
       " 'last_error': None,\n",
       " 'max_completion_tokens': None,\n",
       " 'max_prompt_tokens': None,\n",
       " 'metadata': {},\n",
       " 'model': 'gpt-4o-mini',\n",
       " 'object': 'thread.run',\n",
       " 'parallel_tool_calls': True,\n",
       " 'required_action': None,\n",
       " 'response_format': 'auto',\n",
       " 'started_at': None,\n",
       " 'status': 'queued',\n",
       " 'thread_id': 'thread_NVFNErzBZ2l8C85U02llsNrN',\n",
       " 'tool_choice': 'auto',\n",
       " 'tools': [{'type': 'code_interpreter'},\n",
       "  {'type': 'file_search',\n",
       "   'file_search': {'max_num_results': None,\n",
       "    'ranking_options': {'ranker': 'default_2024_08_21',\n",
       "     'score_threshold': 0.0}}}],\n",
       " 'truncation_strategy': {'type': 'auto', 'last_messages': None},\n",
       " 'usage': None,\n",
       " 'temperature': 0.0,\n",
       " 'top_p': 1.0,\n",
       " 'tool_resources': {}}"
      ]
     },
     "metadata": {},
     "output_type": "display_data"
    }
   ],
   "source": [
    "run = client.beta.threads.runs.create(\n",
    "    thread_id=thread.id, # 생성한스레드(카톡방)\n",
    "    assistant_id=ASSISTANT_ID # 적용할 AssistantID\n",
    ")\n",
    "show_json(run)"
   ]
  },
  {
   "cell_type": "markdown",
   "metadata": {},
   "source": [
    "run을 생성하는 것은 비동기 작업이다.\n",
    "이는 Run의 메타데이터와 함께 즉시 반환되며, status 는 queued(대기중)으로 표기된다.\n",
    "status 는 Assistant가 작업을 수행함에 따라(도구 사용 및 메시지 추가와 같은) 업데이트될 것임.\n",
    "\n",
    "### status 목록\n",
    "- queued : 아직 실행이 되지 않고 대기중인 상태\n",
    "- in_progress: 처리중\n",
    "- requires_action : 사용자 입력 대기중\n",
    "- cancelling : 작업 취소중\n",
    "- cancelled : 취소 완료\n",
    "- failed: 오류(실패)\n",
    "- completed: 작업완료\n",
    "- expired: 작업 만료"
   ]
  },
  {
   "cell_type": "code",
   "execution_count": 74,
   "metadata": {},
   "outputs": [],
   "source": [
    "import time \n",
    "\n",
    "def wait_on_run(run, thread):\n",
    "    # 주어진 실행 (run)이 완료 될때까지 대기\n",
    "    # status 가 'queued' 또는 'inprogress'인 경우에는 계속 polling 하며 대기\n",
    "    while run.status == 'queued' or run.status == 'in_progress':\n",
    "        # run.status를 업데이트 합니다.\n",
    "        run = client.beta.threads.runs.retrieve(\n",
    "            thread_id = thread.id,\n",
    "            run_id= run.id\n",
    "        )\n",
    "        time.sleep(0.5)\n",
    "    return run"
   ]
  },
  {
   "cell_type": "code",
   "execution_count": 75,
   "metadata": {},
   "outputs": [
    {
     "data": {
      "text/plain": [
       "{'id': 'run_FUiy2vYSOuMNgcQaVMFCpNuE',\n",
       " 'assistant_id': 'asst_GDlNLfM4j2LCpTYFgULSR1V6',\n",
       " 'cancelled_at': None,\n",
       " 'completed_at': 1725520651,\n",
       " 'created_at': 1725520648,\n",
       " 'expires_at': None,\n",
       " 'failed_at': None,\n",
       " 'incomplete_details': None,\n",
       " 'instructions': '\\n    1. Role\\n    상표 식별력 판단 AI 서비스는 [상표심사기준202405.pdf]를 기준으로, 상표의 이미지 또는 텍스트를 분석하여, 해당 상표의 식별력을 평가하고 등록 가능성을 판단하는 역할을 수행합니다.\\n\\n    2. Context\\n\\n    이 GPT는 대한민국의 상표를 새로 등록하려는 업체를 대상으로, 상표가 이미지든 텍스트든 상관없이 대한민국 상표심사기준 문서에 따라 식별력을 평가합니다. 또한, 식별력이 부족한 경우 그 이유를 상세히 설명하고, 관련 법률 조항과 판례를 참조하여 사용자가 이해할 수 있도록 도와줍니다.\\n\\n    3. Dialog Flow\\n\\n        1.\\t상표 입력 요청: 사용자가 상표 이미지를 업로드하거나 텍스트 형태의 상표를 입력하도록 요청합니다. \\n        2.\\t상표 형태 인식: 입력된 상표가 이미지인지 텍스트인지 인식합니다.\\n        •\\t이미지일 경우: 이미지에서 텍스트나 시각적 요소를 추출한 후 분석합니다.\\n        •\\t텍스트일 경우: 텍스트를 직접 분석합니다.\\n        3.\\t법률 기준 참조: [상표심사기준202405.pdf]안에 있는 내용을 기준으로 상표의 식별력을 평가합니다.\\n        •\\t식별력이 충분한경우 :  GPT는 상표심사기준 문서에서 관련 조항을 참조하여, 왜 식별력이 있는지를 신뢰성있는 데이터를 바탕으로 상세히 설명합니다. \\n        •\\t식별력이 부족한 경우: GPT는 상표심사기준 문서에서 관련 조항을 참조하여, 왜 식별력이 부족한지 이유를 신뢰성있는 데이터를 바탕으로 상세히 설명합니다.\\n        4.\\t결과 제공: 상표가 식별력이 있는지, 등록 가능성이 있는지 평가한 후 결과를 사용자에게 제공합니다. 이때, 식별력이 부족한 경우 해당 법률 조항을 명시하고 이유를 설명합니다.\\n        5.\\t피드백 요청: 사용자에게 제공된 분석 결과에 대해 피드백을 요청하고, 추가 분석이 필요한지 확인합니다.\\n\\n    4. Instructions\\n\\n        1.\\t상표를 이미지나 텍스트 형태로 입력받으세요.\\n        2.\\t상표의 형태를 인식한 후, 해당 상표를 분석하세요.\\n        •\\t이미지에서 텍스트를 추출하거나 시각적 요소를 분석합니다.\\n        •\\t텍스트 형태의 상표는 직접 분석합니다.\\n        3.\\t대한민국 [상표심사기준202405.pdf]에 따라 상표의 식별력을 평가하세요.\\n        •\\t식별력이 부족한 경우, 상표심사기준 문서에서 관련 조항을 참조하여 상세한 이유를 제공하세요.\\n        •\\t사용자가 신뢰를 느끼도록 참고한 문서의 메타데이터를 보여주세요\\n        4.\\t상표의 식별력 여부와 등록 가능성을 명확히 설명하고, 결과를 사용자에게 전달하세요.\\n        5.\\t사용자의 피드백을 받아 필요 시 추가 분석이나 법적 조언을 제공하세요.\\n\\n    5. Constraints\\n\\n        •\\tGPT는 상표의 이미지 또는 텍스트를 분석할 때 대한민국 상표심사기준에 따라 판단해야 합니다.\\n        •\\t식별력이 부족한 경우, 상표심사기준 문서의 관련 조항을 참조하여 상세한 이유를 제공해야 합니다.\\n        •\\t법률적 용어를 사용하여 명확하게 결과를 전달해야 합니다.\\n\\n    6. Output Indicator\\n\\n        •\\t상표가 식별력이 있는지 여부를 명확히 판단하고, 해당 상표가 등록 가능성이 있는지를 법률적 기준에 따라 정확히 평가합니다.\\n        •\\t식별력이 부족한 경우, 상표심사기준 문서에서 참조한 조항과 함께 구체적이고 명확한 이유를 제시합니다.\\n        •\\t사용자의 피드백에 따라 추가 분석이나 정보 제공이 이루어집니다.\\n',\n",
       " 'last_error': None,\n",
       " 'max_completion_tokens': None,\n",
       " 'max_prompt_tokens': None,\n",
       " 'metadata': {},\n",
       " 'model': 'gpt-4o-mini',\n",
       " 'object': 'thread.run',\n",
       " 'parallel_tool_calls': True,\n",
       " 'required_action': None,\n",
       " 'response_format': 'auto',\n",
       " 'started_at': 1725520648,\n",
       " 'status': 'completed',\n",
       " 'thread_id': 'thread_NVFNErzBZ2l8C85U02llsNrN',\n",
       " 'tool_choice': 'auto',\n",
       " 'tools': [{'type': 'code_interpreter'},\n",
       "  {'type': 'file_search',\n",
       "   'file_search': {'max_num_results': None,\n",
       "    'ranking_options': {'ranker': 'default_2024_08_21',\n",
       "     'score_threshold': 0.0}}}],\n",
       " 'truncation_strategy': {'type': 'auto', 'last_messages': None},\n",
       " 'usage': {'completion_tokens': 229,\n",
       "  'prompt_tokens': 1630,\n",
       "  'total_tokens': 1859},\n",
       " 'temperature': 0.0,\n",
       " 'top_p': 1.0,\n",
       " 'tool_resources': {}}"
      ]
     },
     "metadata": {},
     "output_type": "display_data"
    }
   ],
   "source": [
    "# run 객체를 대기 상태로 설정하고, 해당 스레드에서 실행을 완료할 때가지 기다림\n",
    "run = wait_on_run(run, thread)\n",
    "\n",
    "# status가 'complete'인 경우에는 결과를 출력합니다.\n",
    "show_json(run)"
   ]
  },
  {
   "cell_type": "markdown",
   "metadata": {},
   "source": [
    "### Message(메세지)\n",
    "\n",
    "run이 완료되었다면, Assistant에 의해 처리된 결과를 보기 위해 Thread에서 messages를 확인할 수 있다."
   ]
  },
  {
   "cell_type": "code",
   "execution_count": null,
   "metadata": {},
   "outputs": [],
   "source": []
  }
 ],
 "metadata": {
  "kernelspec": {
   "display_name": "Python 3",
   "language": "python",
   "name": "python3"
  },
  "language_info": {
   "codemirror_mode": {
    "name": "ipython",
    "version": 3
   },
   "file_extension": ".py",
   "mimetype": "text/x-python",
   "name": "python",
   "nbconvert_exporter": "python",
   "pygments_lexer": "ipython3",
   "version": "3.12.5"
  }
 },
 "nbformat": 4,
 "nbformat_minor": 2
}
