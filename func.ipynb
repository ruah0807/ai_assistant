{
 "cells": [
  {
   "cell_type": "code",
   "execution_count": 34,
   "metadata": {},
   "outputs": [],
   "source": [
    "import os \n",
    "from dotenv import load_dotenv\n",
    "from openai import OpenAI\n",
    "import json \n",
    "\n",
    "api_key = os.environ.get('OPENAI_API_KEY')\n",
    "# Open ai API를 사용하기 위한 클라이언트 객체생성\n",
    "client = OpenAI(api_key=api_key)\n",
    "\n",
    "\n",
    "load_dotenv()\n",
    "\n",
    "# 헬퍼 함수\n",
    "def show_json(obj):\n",
    "    #obj의 모델을 Json 형태로 변환 후 출력\n",
    "    display(json.loads(obj.model_dump_json()))\n"
   ]
  },
  {
   "cell_type": "code",
   "execution_count": 35,
   "metadata": {},
   "outputs": [
    {
     "name": "stdout",
     "output_type": "stream",
     "text": [
      "Assistant Name: 상표 식별력 판단 AI(GPT-4o), Assistant ID: asst_mD9MAguey0mzXs0wKEJmG4lV\n",
      "Assistant Name: 상표 식별력 판단 AI, Assistant ID: asst_GDlNLfM4j2LCpTYFgULSR1V6\n"
     ]
    }
   ],
   "source": [
    "assistant_list = client.beta.assistants.list()\n",
    "\n",
    "for assistant in assistant_list:\n",
    "    print(f\"Assistant Name: {assistant.name}, Assistant ID: {assistant.id}\")\n"
   ]
  },
  {
   "cell_type": "code",
   "execution_count": 47,
   "metadata": {},
   "outputs": [
    {
     "name": "stdout",
     "output_type": "stream",
     "text": [
      "[새로 생성한 ASSISTANT_ID]\n",
      "asst_n01Ro5AKLNdP8Ye4IZqB727G\n"
     ]
    }
   ],
   "source": [
    "# assistant id를 별도의 변수에 담음\n",
    "ASSISTANT_ID = 'asst_n01Ro5AKLNdP8Ye4IZqB727G'\n",
    "\n",
    "print(f\"[새로 생성한 ASSISTANT_ID]\\n{ASSISTANT_ID}\")\n"
   ]
  },
  {
   "cell_type": "markdown",
   "metadata": {},
   "source": [
    "# assistant update & functions schema "
   ]
  },
  {
   "cell_type": "markdown",
   "metadata": {},
   "source": [
    "### function과 schema"
   ]
  },
  {
   "cell_type": "code",
   "execution_count": 61,
   "metadata": {},
   "outputs": [],
   "source": [
    "def return_ai_company():\n",
    "    return '(주)에이아이노미스'\n",
    "\n",
    "function_schema={\n",
    "    'name' : 'return_ai_nomis',\n",
    "    'description' : \"모든 응답 마지막에 반환한 문자열 문구를 추가합니다\",\n",
    "    'parameters':{\n",
    "        'type': 'object',\n",
    "        'properties': {},\n",
    "        'additionalProperties':False\n",
    "    },\n",
    "    'strict': True # 모든 응답에서 호출되도록\n",
    "}"
   ]
  },
  {
   "cell_type": "markdown",
   "metadata": {},
   "source": [
    "### 새로운 어시스턴트 생성"
   ]
  },
  {
   "cell_type": "code",
   "execution_count": 46,
   "metadata": {},
   "outputs": [
    {
     "data": {
      "text/plain": [
       "{'id': 'asst_n01Ro5AKLNdP8Ye4IZqB727G',\n",
       " 'created_at': 1725613108,\n",
       " 'description': None,\n",
       " 'instructions': '당신은 수학의 천재 입니다. 사용자의 질문에 계산하여 대답하세요.',\n",
       " 'metadata': {},\n",
       " 'model': 'gpt-4o-mini',\n",
       " 'name': '수학천재',\n",
       " 'object': 'assistant',\n",
       " 'tools': [{'type': 'code_interpreter'},\n",
       "  {'type': 'file_search',\n",
       "   'file_search': {'max_num_results': None,\n",
       "    'ranking_options': {'ranker': 'default_2024_08_21',\n",
       "     'score_threshold': 0.0}}},\n",
       "  {'function': {'name': 'return_ai_nomis',\n",
       "    'description': \"모든 응답 마지막에 '(주)에이아이노미스' 문구를 추가합니다\",\n",
       "    'parameters': {'type': 'object',\n",
       "     'properties': {},\n",
       "     'additionalProperties': False},\n",
       "    'strict': True},\n",
       "   'type': 'function'}],\n",
       " 'response_format': 'auto',\n",
       " 'temperature': 1.0,\n",
       " 'tool_resources': {'code_interpreter': {'file_ids': []},\n",
       "  'file_search': {'vector_store_ids': []}},\n",
       " 'top_p': 1.0}"
      ]
     },
     "metadata": {},
     "output_type": "display_data"
    }
   ],
   "source": [
    "assistant = client.beta.assistants.update(\n",
    "    assistant_id=ASSISTANT_ID,\n",
    "    instructions='당신은 수학의 천재 입니다. 사용자의 질문에 계산하여 대답하세요.',\n",
    "    tools= [\n",
    "        {'type': 'code_interpreter'},\n",
    "        {'type': \"file_search\"},\n",
    "        {'type': 'function', 'function': function_schema}\n",
    "    ],\n",
    "    model='gpt-4o-mini'\n",
    ")\n",
    "show_json(assistant)"
   ]
  },
  {
   "cell_type": "code",
   "execution_count": 49,
   "metadata": {},
   "outputs": [
    {
     "data": {
      "text/plain": [
       "SyncCursorPage[VectorStore](data=[VectorStore(id='vs_lnyjqbRPhkqR5RkQ3Y3pdiN1', created_at=1725525376, file_counts=FileCounts(cancelled=0, completed=0, failed=0, in_progress=0, total=0), last_active_at=1725610130, metadata={}, name='상표 식별 documents', object='vector_store', status='completed', usage_bytes=0, expires_after=None, expires_at=None), VectorStore(id='vs_8HRlMlOmpLEGKXIJAPZBGn2w', created_at=1725507210, file_counts=FileCounts(cancelled=0, completed=4, failed=0, in_progress=0, total=4), last_active_at=1725612858, metadata={}, name='상표 식별 documents', object='vector_store', status='completed', usage_bytes=8461165, expires_after=None, expires_at=None)], object='list', first_id='vs_lnyjqbRPhkqR5RkQ3Y3pdiN1', last_id='vs_8HRlMlOmpLEGKXIJAPZBGn2w', has_more=False)"
      ]
     },
     "execution_count": 49,
     "metadata": {},
     "output_type": "execute_result"
    }
   ],
   "source": [
    "client.beta.vector_stores.list()"
   ]
  },
  {
   "cell_type": "code",
   "execution_count": 50,
   "metadata": {},
   "outputs": [
    {
     "data": {
      "text/plain": [
       "{'id': 'thread_WVK6e494ZdBI52zNrhDHOI8y',\n",
       " 'created_at': 1725613146,\n",
       " 'metadata': {},\n",
       " 'object': 'thread',\n",
       " 'tool_resources': {'code_interpreter': None, 'file_search': None}}"
      ]
     },
     "metadata": {},
     "output_type": "display_data"
    }
   ],
   "source": [
    "thread = client.beta.threads.create()\n",
    "\n",
    "show_json(thread)"
   ]
  },
  {
   "cell_type": "code",
   "execution_count": 51,
   "metadata": {},
   "outputs": [
    {
     "data": {
      "text/plain": [
       "{'id': 'msg_v7wDoVZls3mEWGP93I0YH2NK',\n",
       " 'assistant_id': None,\n",
       " 'attachments': [],\n",
       " 'completed_at': None,\n",
       " 'content': [{'text': {'annotations': [],\n",
       "    'value': '“x^2 + y^2가 최소가 되도록 x + y = 10일 때 x와 y의 값을 찾아줘.”'},\n",
       "   'type': 'text'}],\n",
       " 'created_at': 1725613217,\n",
       " 'incomplete_at': None,\n",
       " 'incomplete_details': None,\n",
       " 'metadata': {},\n",
       " 'object': 'thread.message',\n",
       " 'role': 'user',\n",
       " 'run_id': None,\n",
       " 'status': None,\n",
       " 'thread_id': 'thread_WVK6e494ZdBI52zNrhDHOI8y'}"
      ]
     },
     "metadata": {},
     "output_type": "display_data"
    }
   ],
   "source": [
    "message = client.beta.threads.messages.create(\n",
    "    thread_id= thread.id,\n",
    "    role='user',\n",
    "    content='“x^2 + y^2가 최소가 되도록 x + y = 10일 때 x와 y의 값을 찾아줘.”'\n",
    ")\n",
    "show_json(message)"
   ]
  },
  {
   "cell_type": "code",
   "execution_count": 52,
   "metadata": {},
   "outputs": [
    {
     "data": {
      "text/plain": [
       "{'id': 'run_7BnkU03e8qItCGDdPatXUUVu',\n",
       " 'assistant_id': 'asst_n01Ro5AKLNdP8Ye4IZqB727G',\n",
       " 'cancelled_at': None,\n",
       " 'completed_at': None,\n",
       " 'created_at': 1725613223,\n",
       " 'expires_at': 1725613823,\n",
       " 'failed_at': None,\n",
       " 'incomplete_details': None,\n",
       " 'instructions': '당신은 수학의 천재 입니다. 사용자의 질문에 계산하여 대답하세요.',\n",
       " 'last_error': None,\n",
       " 'max_completion_tokens': None,\n",
       " 'max_prompt_tokens': None,\n",
       " 'metadata': {},\n",
       " 'model': 'gpt-4o-mini',\n",
       " 'object': 'thread.run',\n",
       " 'parallel_tool_calls': True,\n",
       " 'required_action': None,\n",
       " 'response_format': 'auto',\n",
       " 'started_at': None,\n",
       " 'status': 'queued',\n",
       " 'thread_id': 'thread_WVK6e494ZdBI52zNrhDHOI8y',\n",
       " 'tool_choice': 'auto',\n",
       " 'tools': [{'type': 'code_interpreter'},\n",
       "  {'type': 'file_search',\n",
       "   'file_search': {'max_num_results': None,\n",
       "    'ranking_options': {'ranker': 'default_2024_08_21',\n",
       "     'score_threshold': 0.0}}},\n",
       "  {'function': {'name': 'return_ai_nomis',\n",
       "    'description': \"모든 응답 마지막에 '(주)에이아이노미스' 문구를 추가합니다\",\n",
       "    'parameters': {'type': 'object',\n",
       "     'properties': {},\n",
       "     'additionalProperties': False},\n",
       "    'strict': True},\n",
       "   'type': 'function'}],\n",
       " 'truncation_strategy': {'type': 'auto', 'last_messages': None},\n",
       " 'usage': None,\n",
       " 'temperature': 1.0,\n",
       " 'top_p': 1.0,\n",
       " 'tool_resources': {}}"
      ]
     },
     "metadata": {},
     "output_type": "display_data"
    }
   ],
   "source": [
    "run = client.beta.threads.runs.create(\n",
    "    thread_id=thread.id, # 생성한스레드(카톡방)\n",
    "    assistant_id=ASSISTANT_ID # 적용할 AssistantID\n",
    ")\n",
    "show_json(run)"
   ]
  },
  {
   "cell_type": "code",
   "execution_count": 53,
   "metadata": {},
   "outputs": [],
   "source": [
    "import time \n",
    "\n",
    "def wait_on_run(run, thread):\n",
    "    # 주어진 실행 (run)이 완료 될때까지 대기\n",
    "    # status 가 'queued' 또는 'inprogress'인 경우에는 계속 polling 하며 대기\n",
    "    while run.status == 'queued' or run.status == 'in_progress':\n",
    "        # run.status를 업데이트 합니다.\n",
    "        run = client.beta.threads.runs.retrieve(\n",
    "            thread_id = thread.id,\n",
    "            run_id= run.id\n",
    "        )\n",
    "        time.sleep(0.5)\n",
    "    return run"
   ]
  },
  {
   "cell_type": "code",
   "execution_count": 54,
   "metadata": {},
   "outputs": [
    {
     "data": {
      "text/plain": [
       "{'id': 'run_7BnkU03e8qItCGDdPatXUUVu',\n",
       " 'assistant_id': 'asst_n01Ro5AKLNdP8Ye4IZqB727G',\n",
       " 'cancelled_at': None,\n",
       " 'completed_at': 1725613230,\n",
       " 'created_at': 1725613223,\n",
       " 'expires_at': None,\n",
       " 'failed_at': None,\n",
       " 'incomplete_details': None,\n",
       " 'instructions': '당신은 수학의 천재 입니다. 사용자의 질문에 계산하여 대답하세요.',\n",
       " 'last_error': None,\n",
       " 'max_completion_tokens': None,\n",
       " 'max_prompt_tokens': None,\n",
       " 'metadata': {},\n",
       " 'model': 'gpt-4o-mini',\n",
       " 'object': 'thread.run',\n",
       " 'parallel_tool_calls': True,\n",
       " 'required_action': None,\n",
       " 'response_format': 'auto',\n",
       " 'started_at': 1725613223,\n",
       " 'status': 'completed',\n",
       " 'thread_id': 'thread_WVK6e494ZdBI52zNrhDHOI8y',\n",
       " 'tool_choice': 'auto',\n",
       " 'tools': [{'type': 'code_interpreter'},\n",
       "  {'type': 'file_search',\n",
       "   'file_search': {'max_num_results': None,\n",
       "    'ranking_options': {'ranker': 'default_2024_08_21',\n",
       "     'score_threshold': 0.0}}},\n",
       "  {'function': {'name': 'return_ai_nomis',\n",
       "    'description': \"모든 응답 마지막에 '(주)에이아이노미스' 문구를 추가합니다\",\n",
       "    'parameters': {'type': 'object',\n",
       "     'properties': {},\n",
       "     'additionalProperties': False},\n",
       "    'strict': True},\n",
       "   'type': 'function'}],\n",
       " 'truncation_strategy': {'type': 'auto', 'last_messages': None},\n",
       " 'usage': {'completion_tokens': 240,\n",
       "  'prompt_tokens': 2124,\n",
       "  'total_tokens': 2364},\n",
       " 'temperature': 1.0,\n",
       " 'top_p': 1.0,\n",
       " 'tool_resources': {}}"
      ]
     },
     "metadata": {},
     "output_type": "display_data"
    }
   ],
   "source": [
    "\n",
    "# run 객체를 대기 상태로 설정하고, 해당 스레드에서 실행을 완료할 때가지 기다림\n",
    "run = wait_on_run(run, thread)\n",
    "\n",
    "# status가 'complete'인 경우에는 결과를 출력합니다.\n",
    "show_json(run)"
   ]
  },
  {
   "cell_type": "code",
   "execution_count": 55,
   "metadata": {},
   "outputs": [],
   "source": [
    "run_steps = client.beta.threads.runs.steps.list(\n",
    "    thread_id=thread.id, run_id = run.id, order='asc'\n",
    ")"
   ]
  },
  {
   "cell_type": "code",
   "execution_count": 56,
   "metadata": {},
   "outputs": [
    {
     "data": {
      "text/plain": [
       "{'tool_calls': [{'id': 'call_Wphxw2vSIC2d5FJFV0JfR15G',\n",
       "   'code_interpreter': {'input': \"import sympy as sp\\n\\n# 변수 정의\\nx, y = sp.symbols('x y')\\n\\n# 제약 조건\\nconstraint = x + y - 10\\n\\n# 목표 함수\\nobjective_function = x**2 + y**2\\n\\n# 제약 조건을 대체하여 목적 함수를 단일 변수로 변환\\ny_expr = 10 - x\\nsubstituted_objective = objective_function.subs(y, y_expr)\\n\\n# 목적 함수를 미분하여 최적화\\nderivative = sp.diff(substituted_objective, x)\\ncritical_points = sp.solve(derivative, x)\\n\\n# x 값을 이용하여 y 값을 찾기\\nx_value = critical_points[0]\\ny_value = 10 - x_value\\n\\nx_value, y_value\",\n",
       "    'outputs': []},\n",
       "   'type': 'code_interpreter'}],\n",
       " 'type': 'tool_calls'}"
      ]
     },
     "metadata": {},
     "output_type": "display_data"
    },
    {
     "data": {
      "text/plain": [
       "{'message_creation': {'message_id': 'msg_rtiOmpGGguOLkDVuRSNJLNhb'},\n",
       " 'type': 'message_creation'}"
      ]
     },
     "metadata": {},
     "output_type": "display_data"
    }
   ],
   "source": [
    "for step in run_steps.data:\n",
    "    #각 세부 단계의 정보를 불러옴\n",
    "    step_detail = step.step_details\n",
    "    #세부 정보를 json형식으로 출력\n",
    "    show_json(step_detail)"
   ]
  },
  {
   "cell_type": "code",
   "execution_count": 57,
   "metadata": {},
   "outputs": [
    {
     "data": {
      "text/plain": [
       "{'data': [{'id': 'msg_rtiOmpGGguOLkDVuRSNJLNhb',\n",
       "   'assistant_id': 'asst_n01Ro5AKLNdP8Ye4IZqB727G',\n",
       "   'attachments': [],\n",
       "   'completed_at': None,\n",
       "   'content': [{'text': {'annotations': [],\n",
       "      'value': '\\\\( x + y = 10 \\\\)일 때 \\\\( x^2 + y^2 \\\\)가 최소가 되도록 하는 \\\\( x \\\\)와 \\\\( y \\\\)의 값은 각각 \\\\( 5 \\\\)입니다. 즉, \\\\( x = 5 \\\\) 및 \\\\( y = 5 \\\\)입니다. (주)에이아이노미스'},\n",
       "     'type': 'text'}],\n",
       "   'created_at': 1725613229,\n",
       "   'incomplete_at': None,\n",
       "   'incomplete_details': None,\n",
       "   'metadata': {},\n",
       "   'object': 'thread.message',\n",
       "   'role': 'assistant',\n",
       "   'run_id': 'run_7BnkU03e8qItCGDdPatXUUVu',\n",
       "   'status': None,\n",
       "   'thread_id': 'thread_WVK6e494ZdBI52zNrhDHOI8y'},\n",
       "  {'id': 'msg_v7wDoVZls3mEWGP93I0YH2NK',\n",
       "   'assistant_id': None,\n",
       "   'attachments': [],\n",
       "   'completed_at': None,\n",
       "   'content': [{'text': {'annotations': [],\n",
       "      'value': '“x^2 + y^2가 최소가 되도록 x + y = 10일 때 x와 y의 값을 찾아줘.”'},\n",
       "     'type': 'text'}],\n",
       "   'created_at': 1725613217,\n",
       "   'incomplete_at': None,\n",
       "   'incomplete_details': None,\n",
       "   'metadata': {},\n",
       "   'object': 'thread.message',\n",
       "   'role': 'user',\n",
       "   'run_id': None,\n",
       "   'status': None,\n",
       "   'thread_id': 'thread_WVK6e494ZdBI52zNrhDHOI8y'}],\n",
       " 'object': 'list',\n",
       " 'first_id': 'msg_rtiOmpGGguOLkDVuRSNJLNhb',\n",
       " 'last_id': 'msg_v7wDoVZls3mEWGP93I0YH2NK',\n",
       " 'has_more': False}"
      ]
     },
     "metadata": {},
     "output_type": "display_data"
    }
   ],
   "source": [
    "# thread.id 를 사용하여 메시지 목록을 가져옴\n",
    "messages = client.beta.threads.messages.list(thread_id=thread.id)\n",
    "\n",
    "#결과 출력\n",
    "show_json(messages)"
   ]
  }
 ],
 "metadata": {
  "kernelspec": {
   "display_name": "assistant",
   "language": "python",
   "name": "python3"
  },
  "language_info": {
   "codemirror_mode": {
    "name": "ipython",
    "version": 3
   },
   "file_extension": ".py",
   "mimetype": "text/x-python",
   "name": "python",
   "nbconvert_exporter": "python",
   "pygments_lexer": "ipython3",
   "version": "3.12.5"
  }
 },
 "nbformat": 4,
 "nbformat_minor": 2
}
